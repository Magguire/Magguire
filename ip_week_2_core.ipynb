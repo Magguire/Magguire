{
  "nbformat": 4,
  "nbformat_minor": 0,
  "metadata": {
    "colab": {
      "name": "ip_week_2_core",
      "provenance": [],
      "collapsed_sections": [
        "kLG2VTrnTvYL",
        "XecOwPNorl2W",
        "J4wfHZwQrs-t",
        "a9BPYqunry97",
        "7KMRBJ7zr9HD",
        "zSGyg6kWsBUl",
        "iUNbvIvnT7ep",
        "ckfufNrcUHeH",
        "6XC_g-zKxe-r",
        "FlBMxEDBUc9B",
        "vTbdjSrhVIiT",
        "lQ2G4ZPDVOXE",
        "xrmHVMVsVS--",
        "HPQviDmNtta8",
        "qjFHK1CKty7o",
        "HSsicSdvt4Zs"
      ],
      "include_colab_link": true
    },
    "kernelspec": {
      "name": "python3",
      "display_name": "Python 3"
    }
  },
  "cells": [
    {
      "cell_type": "markdown",
      "metadata": {
        "id": "view-in-github",
        "colab_type": "text"
      },
      "source": [
        "<a href=\"https://colab.research.google.com/github/Magguire/Magguire/blob/main/ip_week_2_core.ipynb\" target=\"_parent\"><img src=\"https://colab.research.google.com/assets/colab-badge.svg\" alt=\"Open In Colab\"/></a>"
      ]
    },
    {
      "cell_type": "markdown",
      "metadata": {
        "id": "xMxtPsqcTsSH"
      },
      "source": [
        "# Analysis of the State of Financial Inclusion in Kenya, Uganda, Tanzania and Rwanda"
      ]
    },
    {
      "cell_type": "markdown",
      "source": [
        "Financial Inclusion remains one of the main obstacles to economic and human development in Africa. For example, across Kenya, Rwanda, Tanzania, and Uganda only 9.1 million adults (or 13.9% of the adult population) have access to or use a commercial bank account.\n",
        "\n",
        "Traditionally, access to bank accounts has been regarded as an indicator of financial inclusion. Despite the proliferation of mobile money in Africa and the growth of innovative fintech solutions, banks still play a pivotal role in facilitating access to financial services. Access to bank accounts enables households to save and facilitate payments while also helping businesses build up their credit-worthiness and improve their access to other financial services. Therefore, access to bank accounts is an essential contributor to long-term economic growth."
      ],
      "metadata": {
        "id": "PprWGlb4TLmM"
      }
    },
    {
      "cell_type": "markdown",
      "metadata": {
        "id": "kLG2VTrnTvYL"
      },
      "source": [
        "## 1. Defining the Question"
      ]
    },
    {
      "cell_type": "markdown",
      "metadata": {
        "id": "XecOwPNorl2W"
      },
      "source": [
        "### a) Specifying the Data Analytic Question"
      ]
    },
    {
      "cell_type": "markdown",
      "metadata": {
        "id": "9ozBnKfehSAw"
      },
      "source": [
        "> How we can predict which individuals are most likely to have or use a bank account"
      ]
    },
    {
      "cell_type": "markdown",
      "metadata": {
        "id": "J4wfHZwQrs-t"
      },
      "source": [
        "### b) Defining the Metric for Success"
      ]
    },
    {
      "cell_type": "markdown",
      "source": [
        "> After proper data cleaning, removing relevant outliers and performing appropriate reduction techniques, we shall perform univariate, bivariate and multivariate exploratory data analysis in order to find the necessary variables that contribute to individuals having or using a bank account. "
      ],
      "metadata": {
        "id": "K1sybSEwTxOE"
      }
    },
    {
      "cell_type": "markdown",
      "metadata": {
        "id": "a9BPYqunry97"
      },
      "source": [
        "### c) Understanding the context "
      ]
    },
    {
      "cell_type": "markdown",
      "source": [
        "> This study is for the financial banking sector which will help provide an indication of the state of financial inclusion in Kenya, Rwanda, Tanzania, and Uganda, while providing insights into some of the key demographic factors that might drive individuals’ financial outcomes."
      ],
      "metadata": {
        "id": "bogZaF6KUsMf"
      }
    },
    {
      "cell_type": "markdown",
      "metadata": {
        "id": "7KMRBJ7zr9HD"
      },
      "source": [
        "### d) Recording the Experimental Design"
      ]
    },
    {
      "cell_type": "markdown",
      "source": [
        "> . Read in relevant data for the study.\n",
        "\n",
        "\n",
        "> . Understand the data by getting more information about our data i.e, how many rows and columns does our data have, are the datatypes appropriate or do we need to convert them to the appropriate datatype, are the column names appropriate.\n",
        "\n",
        "\n",
        "> . Validate the records in our dataset.\n",
        "\n",
        "\n",
        "> . Under data preparation, we perform data cleaning procedures, such as, removing outliers, checking for anomalies, checking and dealing with missing data, deleting duplicates if necessary and removing whitespaces.\n",
        "\n",
        "\n",
        "> . Perform univariate, bivariate and multivariate data anaysis to unravel the relationship between our variables.\n",
        "\n",
        "> . Implement the solution by performing the respective analysis i.e. factor analysis, principal component analysis, and discriminant analysis so as to increase the reliability of our results.   \n",
        "\n",
        "> . Challenge your solution by providing insights on how you can make improvements.\n",
        "\n",
        "> . Answer follow up questions to review the appropriateness of our solution\n",
        "\n"
      ],
      "metadata": {
        "id": "-fnw00AiVC3m"
      }
    },
    {
      "cell_type": "markdown",
      "metadata": {
        "id": "zSGyg6kWsBUl"
      },
      "source": [
        "### e) Data Relevance"
      ]
    },
    {
      "cell_type": "markdown",
      "source": [
        "> Our dataset should contain relevant financial banking records from Uganda, Kenya, Tanzania and Uganda. \n",
        "The data should also be recent and up to date. "
      ],
      "metadata": {
        "id": "qSJbkwxSXj4r"
      }
    },
    {
      "cell_type": "markdown",
      "metadata": {
        "id": "iUNbvIvnT7ep"
      },
      "source": [
        "## 2. Reading the Data"
      ]
    },
    {
      "cell_type": "code",
      "metadata": {
        "id": "XJn2KjW-WMlG"
      },
      "source": [
        "# Loading the Data from the source i.e. csv\n",
        "# ---\n",
        "# Dataset url = http://bit.ly/FinancialDataset \n",
        "# ---\n",
        "#Variable Definitions: http://bit.ly/VariableDefinitions \n",
        "\n",
        "# importing our libraries for data loading data and dataset manipulation \n",
        "import pandas as pd\n",
        "\n",
        "#\n",
        "import numpy as np\n",
        "\n",
        "# importing our libraries for modelling\n",
        "import matplotlib.pyplot as plt\n",
        "import seaborn as sns\n",
        "\n",
        "# Loading the dataset\n",
        "df = pd.read_csv('http://bit.ly/FinancialDataset')\n",
        "\n",
        "# Loading the variable definitions file\n",
        "definitions = pd.read_csv('http://bit.ly/VariableDefinitions')"
      ],
      "execution_count": 499,
      "outputs": []
    },
    {
      "cell_type": "code",
      "source": [
        "# dataset definitions\n",
        "definitions.head()"
      ],
      "metadata": {
        "colab": {
          "base_uri": "https://localhost:8080/",
          "height": 206
        },
        "id": "TzLiGhyWwXCa",
        "outputId": "7a7bc7ff-f77e-41ea-edf2-d8d87439fb36"
      },
      "execution_count": 500,
      "outputs": [
        {
          "output_type": "execute_result",
          "data": {
            "text/plain": [
              "  Variable Definitions                                         Unnamed: 1\n",
              "0              country                         Country interviewee is in.\n",
              "1                 year                           Year survey was done in.\n",
              "2             uniqueid             Unique identifier for each interviewee\n",
              "3        location_type                     Type of location: Rural, Urban\n",
              "4     cellphone_access  If interviewee has access to a cellphone: Yes, No"
            ],
            "text/html": [
              "\n",
              "  <div id=\"df-73edf440-0255-499a-bce7-49722ed42c68\">\n",
              "    <div class=\"colab-df-container\">\n",
              "      <div>\n",
              "<style scoped>\n",
              "    .dataframe tbody tr th:only-of-type {\n",
              "        vertical-align: middle;\n",
              "    }\n",
              "\n",
              "    .dataframe tbody tr th {\n",
              "        vertical-align: top;\n",
              "    }\n",
              "\n",
              "    .dataframe thead th {\n",
              "        text-align: right;\n",
              "    }\n",
              "</style>\n",
              "<table border=\"1\" class=\"dataframe\">\n",
              "  <thead>\n",
              "    <tr style=\"text-align: right;\">\n",
              "      <th></th>\n",
              "      <th>Variable Definitions</th>\n",
              "      <th>Unnamed: 1</th>\n",
              "    </tr>\n",
              "  </thead>\n",
              "  <tbody>\n",
              "    <tr>\n",
              "      <th>0</th>\n",
              "      <td>country</td>\n",
              "      <td>Country interviewee is in.</td>\n",
              "    </tr>\n",
              "    <tr>\n",
              "      <th>1</th>\n",
              "      <td>year</td>\n",
              "      <td>Year survey was done in.</td>\n",
              "    </tr>\n",
              "    <tr>\n",
              "      <th>2</th>\n",
              "      <td>uniqueid</td>\n",
              "      <td>Unique identifier for each interviewee</td>\n",
              "    </tr>\n",
              "    <tr>\n",
              "      <th>3</th>\n",
              "      <td>location_type</td>\n",
              "      <td>Type of location: Rural, Urban</td>\n",
              "    </tr>\n",
              "    <tr>\n",
              "      <th>4</th>\n",
              "      <td>cellphone_access</td>\n",
              "      <td>If interviewee has access to a cellphone: Yes, No</td>\n",
              "    </tr>\n",
              "  </tbody>\n",
              "</table>\n",
              "</div>\n",
              "      <button class=\"colab-df-convert\" onclick=\"convertToInteractive('df-73edf440-0255-499a-bce7-49722ed42c68')\"\n",
              "              title=\"Convert this dataframe to an interactive table.\"\n",
              "              style=\"display:none;\">\n",
              "        \n",
              "  <svg xmlns=\"http://www.w3.org/2000/svg\" height=\"24px\"viewBox=\"0 0 24 24\"\n",
              "       width=\"24px\">\n",
              "    <path d=\"M0 0h24v24H0V0z\" fill=\"none\"/>\n",
              "    <path d=\"M18.56 5.44l.94 2.06.94-2.06 2.06-.94-2.06-.94-.94-2.06-.94 2.06-2.06.94zm-11 1L8.5 8.5l.94-2.06 2.06-.94-2.06-.94L8.5 2.5l-.94 2.06-2.06.94zm10 10l.94 2.06.94-2.06 2.06-.94-2.06-.94-.94-2.06-.94 2.06-2.06.94z\"/><path d=\"M17.41 7.96l-1.37-1.37c-.4-.4-.92-.59-1.43-.59-.52 0-1.04.2-1.43.59L10.3 9.45l-7.72 7.72c-.78.78-.78 2.05 0 2.83L4 21.41c.39.39.9.59 1.41.59.51 0 1.02-.2 1.41-.59l7.78-7.78 2.81-2.81c.8-.78.8-2.07 0-2.86zM5.41 20L4 18.59l7.72-7.72 1.47 1.35L5.41 20z\"/>\n",
              "  </svg>\n",
              "      </button>\n",
              "      \n",
              "  <style>\n",
              "    .colab-df-container {\n",
              "      display:flex;\n",
              "      flex-wrap:wrap;\n",
              "      gap: 12px;\n",
              "    }\n",
              "\n",
              "    .colab-df-convert {\n",
              "      background-color: #E8F0FE;\n",
              "      border: none;\n",
              "      border-radius: 50%;\n",
              "      cursor: pointer;\n",
              "      display: none;\n",
              "      fill: #1967D2;\n",
              "      height: 32px;\n",
              "      padding: 0 0 0 0;\n",
              "      width: 32px;\n",
              "    }\n",
              "\n",
              "    .colab-df-convert:hover {\n",
              "      background-color: #E2EBFA;\n",
              "      box-shadow: 0px 1px 2px rgba(60, 64, 67, 0.3), 0px 1px 3px 1px rgba(60, 64, 67, 0.15);\n",
              "      fill: #174EA6;\n",
              "    }\n",
              "\n",
              "    [theme=dark] .colab-df-convert {\n",
              "      background-color: #3B4455;\n",
              "      fill: #D2E3FC;\n",
              "    }\n",
              "\n",
              "    [theme=dark] .colab-df-convert:hover {\n",
              "      background-color: #434B5C;\n",
              "      box-shadow: 0px 1px 3px 1px rgba(0, 0, 0, 0.15);\n",
              "      filter: drop-shadow(0px 1px 2px rgba(0, 0, 0, 0.3));\n",
              "      fill: #FFFFFF;\n",
              "    }\n",
              "  </style>\n",
              "\n",
              "      <script>\n",
              "        const buttonEl =\n",
              "          document.querySelector('#df-73edf440-0255-499a-bce7-49722ed42c68 button.colab-df-convert');\n",
              "        buttonEl.style.display =\n",
              "          google.colab.kernel.accessAllowed ? 'block' : 'none';\n",
              "\n",
              "        async function convertToInteractive(key) {\n",
              "          const element = document.querySelector('#df-73edf440-0255-499a-bce7-49722ed42c68');\n",
              "          const dataTable =\n",
              "            await google.colab.kernel.invokeFunction('convertToInteractive',\n",
              "                                                     [key], {});\n",
              "          if (!dataTable) return;\n",
              "\n",
              "          const docLinkHtml = 'Like what you see? Visit the ' +\n",
              "            '<a target=\"_blank\" href=https://colab.research.google.com/notebooks/data_table.ipynb>data table notebook</a>'\n",
              "            + ' to learn more about interactive tables.';\n",
              "          element.innerHTML = '';\n",
              "          dataTable['output_type'] = 'display_data';\n",
              "          await google.colab.output.renderOutput(dataTable, element);\n",
              "          const docLink = document.createElement('div');\n",
              "          docLink.innerHTML = docLinkHtml;\n",
              "          element.appendChild(docLink);\n",
              "        }\n",
              "      </script>\n",
              "    </div>\n",
              "  </div>\n",
              "  "
            ]
          },
          "metadata": {},
          "execution_count": 500
        }
      ]
    },
    {
      "cell_type": "markdown",
      "metadata": {
        "id": "OI3P3YnHUEBk"
      },
      "source": [
        "## 3. Checking the Data"
      ]
    },
    {
      "cell_type": "code",
      "metadata": {
        "id": "YjSVNwgptHxY",
        "colab": {
          "base_uri": "https://localhost:8080/"
        },
        "outputId": "690c5ba0-99fa-40b0-f9d7-89d2b9b033be"
      },
      "source": [
        "# Determining the no. of records in our dataset\n",
        "#\n",
        "df.shape"
      ],
      "execution_count": 501,
      "outputs": [
        {
          "output_type": "execute_result",
          "data": {
            "text/plain": [
              "(23524, 13)"
            ]
          },
          "metadata": {},
          "execution_count": 501
        }
      ]
    },
    {
      "cell_type": "code",
      "metadata": {
        "id": "xHhTw5eKWr0n",
        "colab": {
          "base_uri": "https://localhost:8080/",
          "height": 426
        },
        "outputId": "6bcbe188-40d4-4349-c369-f97b20819cb3"
      },
      "source": [
        "# Previewing the top of our dataset\n",
        "#\n",
        "df.head()"
      ],
      "execution_count": 502,
      "outputs": [
        {
          "output_type": "execute_result",
          "data": {
            "text/plain": [
              "  country  year    uniqueid Has a Bank account Type of Location  \\\n",
              "0   Kenya  2018  uniqueid_1                Yes            Rural   \n",
              "1   Kenya  2018  uniqueid_2                 No            Rural   \n",
              "2   Kenya  2018  uniqueid_3                Yes            Urban   \n",
              "3   Kenya  2018  uniqueid_4                 No            Rural   \n",
              "4   Kenya  2018  uniqueid_5                 No            Urban   \n",
              "\n",
              "  Cell Phone Access  household_size  Respondent Age gender_of_respondent  \\\n",
              "0               Yes             3.0            24.0               Female   \n",
              "1                No             5.0            70.0               Female   \n",
              "2               Yes             5.0            26.0                 Male   \n",
              "3               Yes             5.0            34.0               Female   \n",
              "4                No             8.0            26.0                 Male   \n",
              "\n",
              "  The relathip with head           marital_status  \\\n",
              "0                 Spouse  Married/Living together   \n",
              "1      Head of Household                  Widowed   \n",
              "2         Other relative     Single/Never Married   \n",
              "3      Head of Household  Married/Living together   \n",
              "4                  Child     Single/Never Married   \n",
              "\n",
              "               Level of Educuation                Type of Job  \n",
              "0              Secondary education              Self employed  \n",
              "1              No formal education       Government Dependent  \n",
              "2  Vocational/Specialised training              Self employed  \n",
              "3                Primary education  Formally employed Private  \n",
              "4                Primary education        Informally employed  "
            ],
            "text/html": [
              "\n",
              "  <div id=\"df-63dd72ed-cefc-4145-bed3-5146586e1ae3\">\n",
              "    <div class=\"colab-df-container\">\n",
              "      <div>\n",
              "<style scoped>\n",
              "    .dataframe tbody tr th:only-of-type {\n",
              "        vertical-align: middle;\n",
              "    }\n",
              "\n",
              "    .dataframe tbody tr th {\n",
              "        vertical-align: top;\n",
              "    }\n",
              "\n",
              "    .dataframe thead th {\n",
              "        text-align: right;\n",
              "    }\n",
              "</style>\n",
              "<table border=\"1\" class=\"dataframe\">\n",
              "  <thead>\n",
              "    <tr style=\"text-align: right;\">\n",
              "      <th></th>\n",
              "      <th>country</th>\n",
              "      <th>year</th>\n",
              "      <th>uniqueid</th>\n",
              "      <th>Has a Bank account</th>\n",
              "      <th>Type of Location</th>\n",
              "      <th>Cell Phone Access</th>\n",
              "      <th>household_size</th>\n",
              "      <th>Respondent Age</th>\n",
              "      <th>gender_of_respondent</th>\n",
              "      <th>The relathip with head</th>\n",
              "      <th>marital_status</th>\n",
              "      <th>Level of Educuation</th>\n",
              "      <th>Type of Job</th>\n",
              "    </tr>\n",
              "  </thead>\n",
              "  <tbody>\n",
              "    <tr>\n",
              "      <th>0</th>\n",
              "      <td>Kenya</td>\n",
              "      <td>2018</td>\n",
              "      <td>uniqueid_1</td>\n",
              "      <td>Yes</td>\n",
              "      <td>Rural</td>\n",
              "      <td>Yes</td>\n",
              "      <td>3.0</td>\n",
              "      <td>24.0</td>\n",
              "      <td>Female</td>\n",
              "      <td>Spouse</td>\n",
              "      <td>Married/Living together</td>\n",
              "      <td>Secondary education</td>\n",
              "      <td>Self employed</td>\n",
              "    </tr>\n",
              "    <tr>\n",
              "      <th>1</th>\n",
              "      <td>Kenya</td>\n",
              "      <td>2018</td>\n",
              "      <td>uniqueid_2</td>\n",
              "      <td>No</td>\n",
              "      <td>Rural</td>\n",
              "      <td>No</td>\n",
              "      <td>5.0</td>\n",
              "      <td>70.0</td>\n",
              "      <td>Female</td>\n",
              "      <td>Head of Household</td>\n",
              "      <td>Widowed</td>\n",
              "      <td>No formal education</td>\n",
              "      <td>Government Dependent</td>\n",
              "    </tr>\n",
              "    <tr>\n",
              "      <th>2</th>\n",
              "      <td>Kenya</td>\n",
              "      <td>2018</td>\n",
              "      <td>uniqueid_3</td>\n",
              "      <td>Yes</td>\n",
              "      <td>Urban</td>\n",
              "      <td>Yes</td>\n",
              "      <td>5.0</td>\n",
              "      <td>26.0</td>\n",
              "      <td>Male</td>\n",
              "      <td>Other relative</td>\n",
              "      <td>Single/Never Married</td>\n",
              "      <td>Vocational/Specialised training</td>\n",
              "      <td>Self employed</td>\n",
              "    </tr>\n",
              "    <tr>\n",
              "      <th>3</th>\n",
              "      <td>Kenya</td>\n",
              "      <td>2018</td>\n",
              "      <td>uniqueid_4</td>\n",
              "      <td>No</td>\n",
              "      <td>Rural</td>\n",
              "      <td>Yes</td>\n",
              "      <td>5.0</td>\n",
              "      <td>34.0</td>\n",
              "      <td>Female</td>\n",
              "      <td>Head of Household</td>\n",
              "      <td>Married/Living together</td>\n",
              "      <td>Primary education</td>\n",
              "      <td>Formally employed Private</td>\n",
              "    </tr>\n",
              "    <tr>\n",
              "      <th>4</th>\n",
              "      <td>Kenya</td>\n",
              "      <td>2018</td>\n",
              "      <td>uniqueid_5</td>\n",
              "      <td>No</td>\n",
              "      <td>Urban</td>\n",
              "      <td>No</td>\n",
              "      <td>8.0</td>\n",
              "      <td>26.0</td>\n",
              "      <td>Male</td>\n",
              "      <td>Child</td>\n",
              "      <td>Single/Never Married</td>\n",
              "      <td>Primary education</td>\n",
              "      <td>Informally employed</td>\n",
              "    </tr>\n",
              "  </tbody>\n",
              "</table>\n",
              "</div>\n",
              "      <button class=\"colab-df-convert\" onclick=\"convertToInteractive('df-63dd72ed-cefc-4145-bed3-5146586e1ae3')\"\n",
              "              title=\"Convert this dataframe to an interactive table.\"\n",
              "              style=\"display:none;\">\n",
              "        \n",
              "  <svg xmlns=\"http://www.w3.org/2000/svg\" height=\"24px\"viewBox=\"0 0 24 24\"\n",
              "       width=\"24px\">\n",
              "    <path d=\"M0 0h24v24H0V0z\" fill=\"none\"/>\n",
              "    <path d=\"M18.56 5.44l.94 2.06.94-2.06 2.06-.94-2.06-.94-.94-2.06-.94 2.06-2.06.94zm-11 1L8.5 8.5l.94-2.06 2.06-.94-2.06-.94L8.5 2.5l-.94 2.06-2.06.94zm10 10l.94 2.06.94-2.06 2.06-.94-2.06-.94-.94-2.06-.94 2.06-2.06.94z\"/><path d=\"M17.41 7.96l-1.37-1.37c-.4-.4-.92-.59-1.43-.59-.52 0-1.04.2-1.43.59L10.3 9.45l-7.72 7.72c-.78.78-.78 2.05 0 2.83L4 21.41c.39.39.9.59 1.41.59.51 0 1.02-.2 1.41-.59l7.78-7.78 2.81-2.81c.8-.78.8-2.07 0-2.86zM5.41 20L4 18.59l7.72-7.72 1.47 1.35L5.41 20z\"/>\n",
              "  </svg>\n",
              "      </button>\n",
              "      \n",
              "  <style>\n",
              "    .colab-df-container {\n",
              "      display:flex;\n",
              "      flex-wrap:wrap;\n",
              "      gap: 12px;\n",
              "    }\n",
              "\n",
              "    .colab-df-convert {\n",
              "      background-color: #E8F0FE;\n",
              "      border: none;\n",
              "      border-radius: 50%;\n",
              "      cursor: pointer;\n",
              "      display: none;\n",
              "      fill: #1967D2;\n",
              "      height: 32px;\n",
              "      padding: 0 0 0 0;\n",
              "      width: 32px;\n",
              "    }\n",
              "\n",
              "    .colab-df-convert:hover {\n",
              "      background-color: #E2EBFA;\n",
              "      box-shadow: 0px 1px 2px rgba(60, 64, 67, 0.3), 0px 1px 3px 1px rgba(60, 64, 67, 0.15);\n",
              "      fill: #174EA6;\n",
              "    }\n",
              "\n",
              "    [theme=dark] .colab-df-convert {\n",
              "      background-color: #3B4455;\n",
              "      fill: #D2E3FC;\n",
              "    }\n",
              "\n",
              "    [theme=dark] .colab-df-convert:hover {\n",
              "      background-color: #434B5C;\n",
              "      box-shadow: 0px 1px 3px 1px rgba(0, 0, 0, 0.15);\n",
              "      filter: drop-shadow(0px 1px 2px rgba(0, 0, 0, 0.3));\n",
              "      fill: #FFFFFF;\n",
              "    }\n",
              "  </style>\n",
              "\n",
              "      <script>\n",
              "        const buttonEl =\n",
              "          document.querySelector('#df-63dd72ed-cefc-4145-bed3-5146586e1ae3 button.colab-df-convert');\n",
              "        buttonEl.style.display =\n",
              "          google.colab.kernel.accessAllowed ? 'block' : 'none';\n",
              "\n",
              "        async function convertToInteractive(key) {\n",
              "          const element = document.querySelector('#df-63dd72ed-cefc-4145-bed3-5146586e1ae3');\n",
              "          const dataTable =\n",
              "            await google.colab.kernel.invokeFunction('convertToInteractive',\n",
              "                                                     [key], {});\n",
              "          if (!dataTable) return;\n",
              "\n",
              "          const docLinkHtml = 'Like what you see? Visit the ' +\n",
              "            '<a target=\"_blank\" href=https://colab.research.google.com/notebooks/data_table.ipynb>data table notebook</a>'\n",
              "            + ' to learn more about interactive tables.';\n",
              "          element.innerHTML = '';\n",
              "          dataTable['output_type'] = 'display_data';\n",
              "          await google.colab.output.renderOutput(dataTable, element);\n",
              "          const docLink = document.createElement('div');\n",
              "          docLink.innerHTML = docLinkHtml;\n",
              "          element.appendChild(docLink);\n",
              "        }\n",
              "      </script>\n",
              "    </div>\n",
              "  </div>\n",
              "  "
            ]
          },
          "metadata": {},
          "execution_count": 502
        }
      ]
    },
    {
      "cell_type": "code",
      "metadata": {
        "id": "e9AzGcZFrIIr",
        "colab": {
          "base_uri": "https://localhost:8080/",
          "height": 409
        },
        "outputId": "9dfaff4e-4444-41de-b2f3-e292cecbe888"
      },
      "source": [
        "# Previewing the bottom of our dataset\n",
        "# \n",
        "df.tail()"
      ],
      "execution_count": 503,
      "outputs": [
        {
          "output_type": "execute_result",
          "data": {
            "text/plain": [
              "      country  year       uniqueid Has a Bank account Type of Location  \\\n",
              "23519  Uganda  2018  uniqueid_2113                 No            Rural   \n",
              "23520  Uganda  2018  uniqueid_2114                 No            Rural   \n",
              "23521  Uganda  2018  uniqueid_2115                 No            Rural   \n",
              "23522  Uganda  2018  uniqueid_2116                 No            Urban   \n",
              "23523  Uganda  2018  uniqueid_2117                 No            Rural   \n",
              "\n",
              "      Cell Phone Access  household_size  Respondent Age gender_of_respondent  \\\n",
              "23519               Yes             4.0            48.0               Female   \n",
              "23520               Yes             2.0            27.0               Female   \n",
              "23521               Yes             5.0            27.0               Female   \n",
              "23522               Yes             7.0            30.0               Female   \n",
              "23523               Yes            10.0            20.0                 Male   \n",
              "\n",
              "      The relathip with head        marital_status  Level of Educuation  \\\n",
              "23519      Head of Household    Divorced/Seperated  No formal education   \n",
              "23520      Head of Household  Single/Never Married  Secondary education   \n",
              "23521                 Parent               Widowed    Primary education   \n",
              "23522                 Parent    Divorced/Seperated  Secondary education   \n",
              "23523                  Child  Single/Never Married  Secondary education   \n",
              "\n",
              "         Type of Job  \n",
              "23519   Other Income  \n",
              "23520   Other Income  \n",
              "23521   Other Income  \n",
              "23522  Self employed  \n",
              "23523      No Income  "
            ],
            "text/html": [
              "\n",
              "  <div id=\"df-7a3b8d77-15cc-4649-9418-00637daf3c67\">\n",
              "    <div class=\"colab-df-container\">\n",
              "      <div>\n",
              "<style scoped>\n",
              "    .dataframe tbody tr th:only-of-type {\n",
              "        vertical-align: middle;\n",
              "    }\n",
              "\n",
              "    .dataframe tbody tr th {\n",
              "        vertical-align: top;\n",
              "    }\n",
              "\n",
              "    .dataframe thead th {\n",
              "        text-align: right;\n",
              "    }\n",
              "</style>\n",
              "<table border=\"1\" class=\"dataframe\">\n",
              "  <thead>\n",
              "    <tr style=\"text-align: right;\">\n",
              "      <th></th>\n",
              "      <th>country</th>\n",
              "      <th>year</th>\n",
              "      <th>uniqueid</th>\n",
              "      <th>Has a Bank account</th>\n",
              "      <th>Type of Location</th>\n",
              "      <th>Cell Phone Access</th>\n",
              "      <th>household_size</th>\n",
              "      <th>Respondent Age</th>\n",
              "      <th>gender_of_respondent</th>\n",
              "      <th>The relathip with head</th>\n",
              "      <th>marital_status</th>\n",
              "      <th>Level of Educuation</th>\n",
              "      <th>Type of Job</th>\n",
              "    </tr>\n",
              "  </thead>\n",
              "  <tbody>\n",
              "    <tr>\n",
              "      <th>23519</th>\n",
              "      <td>Uganda</td>\n",
              "      <td>2018</td>\n",
              "      <td>uniqueid_2113</td>\n",
              "      <td>No</td>\n",
              "      <td>Rural</td>\n",
              "      <td>Yes</td>\n",
              "      <td>4.0</td>\n",
              "      <td>48.0</td>\n",
              "      <td>Female</td>\n",
              "      <td>Head of Household</td>\n",
              "      <td>Divorced/Seperated</td>\n",
              "      <td>No formal education</td>\n",
              "      <td>Other Income</td>\n",
              "    </tr>\n",
              "    <tr>\n",
              "      <th>23520</th>\n",
              "      <td>Uganda</td>\n",
              "      <td>2018</td>\n",
              "      <td>uniqueid_2114</td>\n",
              "      <td>No</td>\n",
              "      <td>Rural</td>\n",
              "      <td>Yes</td>\n",
              "      <td>2.0</td>\n",
              "      <td>27.0</td>\n",
              "      <td>Female</td>\n",
              "      <td>Head of Household</td>\n",
              "      <td>Single/Never Married</td>\n",
              "      <td>Secondary education</td>\n",
              "      <td>Other Income</td>\n",
              "    </tr>\n",
              "    <tr>\n",
              "      <th>23521</th>\n",
              "      <td>Uganda</td>\n",
              "      <td>2018</td>\n",
              "      <td>uniqueid_2115</td>\n",
              "      <td>No</td>\n",
              "      <td>Rural</td>\n",
              "      <td>Yes</td>\n",
              "      <td>5.0</td>\n",
              "      <td>27.0</td>\n",
              "      <td>Female</td>\n",
              "      <td>Parent</td>\n",
              "      <td>Widowed</td>\n",
              "      <td>Primary education</td>\n",
              "      <td>Other Income</td>\n",
              "    </tr>\n",
              "    <tr>\n",
              "      <th>23522</th>\n",
              "      <td>Uganda</td>\n",
              "      <td>2018</td>\n",
              "      <td>uniqueid_2116</td>\n",
              "      <td>No</td>\n",
              "      <td>Urban</td>\n",
              "      <td>Yes</td>\n",
              "      <td>7.0</td>\n",
              "      <td>30.0</td>\n",
              "      <td>Female</td>\n",
              "      <td>Parent</td>\n",
              "      <td>Divorced/Seperated</td>\n",
              "      <td>Secondary education</td>\n",
              "      <td>Self employed</td>\n",
              "    </tr>\n",
              "    <tr>\n",
              "      <th>23523</th>\n",
              "      <td>Uganda</td>\n",
              "      <td>2018</td>\n",
              "      <td>uniqueid_2117</td>\n",
              "      <td>No</td>\n",
              "      <td>Rural</td>\n",
              "      <td>Yes</td>\n",
              "      <td>10.0</td>\n",
              "      <td>20.0</td>\n",
              "      <td>Male</td>\n",
              "      <td>Child</td>\n",
              "      <td>Single/Never Married</td>\n",
              "      <td>Secondary education</td>\n",
              "      <td>No Income</td>\n",
              "    </tr>\n",
              "  </tbody>\n",
              "</table>\n",
              "</div>\n",
              "      <button class=\"colab-df-convert\" onclick=\"convertToInteractive('df-7a3b8d77-15cc-4649-9418-00637daf3c67')\"\n",
              "              title=\"Convert this dataframe to an interactive table.\"\n",
              "              style=\"display:none;\">\n",
              "        \n",
              "  <svg xmlns=\"http://www.w3.org/2000/svg\" height=\"24px\"viewBox=\"0 0 24 24\"\n",
              "       width=\"24px\">\n",
              "    <path d=\"M0 0h24v24H0V0z\" fill=\"none\"/>\n",
              "    <path d=\"M18.56 5.44l.94 2.06.94-2.06 2.06-.94-2.06-.94-.94-2.06-.94 2.06-2.06.94zm-11 1L8.5 8.5l.94-2.06 2.06-.94-2.06-.94L8.5 2.5l-.94 2.06-2.06.94zm10 10l.94 2.06.94-2.06 2.06-.94-2.06-.94-.94-2.06-.94 2.06-2.06.94z\"/><path d=\"M17.41 7.96l-1.37-1.37c-.4-.4-.92-.59-1.43-.59-.52 0-1.04.2-1.43.59L10.3 9.45l-7.72 7.72c-.78.78-.78 2.05 0 2.83L4 21.41c.39.39.9.59 1.41.59.51 0 1.02-.2 1.41-.59l7.78-7.78 2.81-2.81c.8-.78.8-2.07 0-2.86zM5.41 20L4 18.59l7.72-7.72 1.47 1.35L5.41 20z\"/>\n",
              "  </svg>\n",
              "      </button>\n",
              "      \n",
              "  <style>\n",
              "    .colab-df-container {\n",
              "      display:flex;\n",
              "      flex-wrap:wrap;\n",
              "      gap: 12px;\n",
              "    }\n",
              "\n",
              "    .colab-df-convert {\n",
              "      background-color: #E8F0FE;\n",
              "      border: none;\n",
              "      border-radius: 50%;\n",
              "      cursor: pointer;\n",
              "      display: none;\n",
              "      fill: #1967D2;\n",
              "      height: 32px;\n",
              "      padding: 0 0 0 0;\n",
              "      width: 32px;\n",
              "    }\n",
              "\n",
              "    .colab-df-convert:hover {\n",
              "      background-color: #E2EBFA;\n",
              "      box-shadow: 0px 1px 2px rgba(60, 64, 67, 0.3), 0px 1px 3px 1px rgba(60, 64, 67, 0.15);\n",
              "      fill: #174EA6;\n",
              "    }\n",
              "\n",
              "    [theme=dark] .colab-df-convert {\n",
              "      background-color: #3B4455;\n",
              "      fill: #D2E3FC;\n",
              "    }\n",
              "\n",
              "    [theme=dark] .colab-df-convert:hover {\n",
              "      background-color: #434B5C;\n",
              "      box-shadow: 0px 1px 3px 1px rgba(0, 0, 0, 0.15);\n",
              "      filter: drop-shadow(0px 1px 2px rgba(0, 0, 0, 0.3));\n",
              "      fill: #FFFFFF;\n",
              "    }\n",
              "  </style>\n",
              "\n",
              "      <script>\n",
              "        const buttonEl =\n",
              "          document.querySelector('#df-7a3b8d77-15cc-4649-9418-00637daf3c67 button.colab-df-convert');\n",
              "        buttonEl.style.display =\n",
              "          google.colab.kernel.accessAllowed ? 'block' : 'none';\n",
              "\n",
              "        async function convertToInteractive(key) {\n",
              "          const element = document.querySelector('#df-7a3b8d77-15cc-4649-9418-00637daf3c67');\n",
              "          const dataTable =\n",
              "            await google.colab.kernel.invokeFunction('convertToInteractive',\n",
              "                                                     [key], {});\n",
              "          if (!dataTable) return;\n",
              "\n",
              "          const docLinkHtml = 'Like what you see? Visit the ' +\n",
              "            '<a target=\"_blank\" href=https://colab.research.google.com/notebooks/data_table.ipynb>data table notebook</a>'\n",
              "            + ' to learn more about interactive tables.';\n",
              "          element.innerHTML = '';\n",
              "          dataTable['output_type'] = 'display_data';\n",
              "          await google.colab.output.renderOutput(dataTable, element);\n",
              "          const docLink = document.createElement('div');\n",
              "          docLink.innerHTML = docLinkHtml;\n",
              "          element.appendChild(docLink);\n",
              "        }\n",
              "      </script>\n",
              "    </div>\n",
              "  </div>\n",
              "  "
            ]
          },
          "metadata": {},
          "execution_count": 503
        }
      ]
    },
    {
      "cell_type": "code",
      "metadata": {
        "id": "n8-dW4sQWzbc",
        "colab": {
          "base_uri": "https://localhost:8080/"
        },
        "outputId": "a858aefe-126d-4add-8991-7a6745063d27"
      },
      "source": [
        "# Checking whether each column has an appropriate datatype\n",
        "#\n",
        "df.dtypes"
      ],
      "execution_count": 504,
      "outputs": [
        {
          "output_type": "execute_result",
          "data": {
            "text/plain": [
              "country                    object\n",
              "year                        int64\n",
              "uniqueid                   object\n",
              "Has a Bank account         object\n",
              "Type of Location           object\n",
              "Cell Phone Access          object\n",
              "household_size            float64\n",
              "Respondent Age            float64\n",
              "gender_of_respondent       object\n",
              "The relathip with head     object\n",
              "marital_status             object\n",
              "Level of Educuation        object\n",
              "Type of Job                object\n",
              "dtype: object"
            ]
          },
          "metadata": {},
          "execution_count": 504
        }
      ]
    },
    {
      "cell_type": "markdown",
      "metadata": {
        "id": "ckfufNrcUHeH"
      },
      "source": [
        "## 4. External Data Source Validation"
      ]
    },
    {
      "cell_type": "markdown",
      "metadata": {
        "id": "6L4sl_0WXlbg"
      },
      "source": [
        "Making sure your data matches something outside of the dataset is very important. It allows you to ensure that the measurements are roughly in line with what they should be and it serves as a check on what other things might be wrong in your dataset. External validation can often be as simple as checking your data against a single number. \n",
        "\n",
        "An example would be suppose that you're working with a dataset on the population of countries during the year 2016. Validating such information with an external reliable resource such as World Bank Data would be important step to providing credibility to your dataset. Have a look at the following link for an example. [Link](https://rstudio-pubs-static.s3.amazonaws.com/182250_19977d0c5c06403fbad1e653850fc7c6.html)."
      ]
    },
    {
      "cell_type": "markdown",
      "metadata": {
        "id": "6XC_g-zKxe-r"
      },
      "source": [
        "### a.Validation"
      ]
    },
    {
      "cell_type": "code",
      "source": [
        "# we are going to validate the statement that across Kenya, Rwanda, Tanzania, and Uganda\n",
        "# only 9.1 million adults (or 13.9% of the adult population) have access to or use a commercial bank account.\n",
        "positive = df[df['Has a Bank account'] == 'Yes'] \n",
        "positive_percent = (positive.shape[0]/df.shape[0]) * 100 \n",
        "positive_percent\n",
        "\n",
        "# 14.066485291617074% of the sample dataset have a bank account which is a value close to 13.9% which\n",
        "# implies that our dataset is valid\n",
        "\n"
      ],
      "metadata": {
        "colab": {
          "base_uri": "https://localhost:8080/"
        },
        "id": "IE31-7zc6Ljo",
        "outputId": "7c9c8e01-32d6-4c00-8b85-a28e58829332"
      },
      "execution_count": 505,
      "outputs": [
        {
          "output_type": "execute_result",
          "data": {
            "text/plain": [
              "14.066485291617074"
            ]
          },
          "metadata": {},
          "execution_count": 505
        }
      ]
    },
    {
      "cell_type": "markdown",
      "metadata": {
        "id": "FlBMxEDBUc9B"
      },
      "source": [
        "## 5. Tidying the Dataset"
      ]
    },
    {
      "cell_type": "code",
      "metadata": {
        "id": "5o_bQcT5W3Wz",
        "colab": {
          "base_uri": "https://localhost:8080/",
          "height": 341
        },
        "outputId": "25bafa07-8dd6-49d6-f414-4839d0e563a0"
      },
      "source": [
        "# Checking for Outliers\n",
        "#\n",
        "\n",
        "columns= []\n",
        "for col in df.columns:\n",
        "   if df[col].dtypes in ['float64', 'int64']:\n",
        "     columns.append(col)\n",
        "      \n",
        "fig, ax = plt.subplots(ncols=len(columns), figsize=(12,5))\n",
        "\n",
        "for i, column in enumerate(columns):\n",
        "         sns.boxplot(y=df[column], ax=ax[i])\n",
        "         ax[i].set_title('Boxplot for {}'.format(column), fontsize=12)\n",
        "         ax[i].set_xlabel(column)\n",
        "\n",
        "plt.show()    \n"
      ],
      "execution_count": 506,
      "outputs": [
        {
          "output_type": "display_data",
          "data": {
            "text/plain": [
              "<Figure size 864x360 with 3 Axes>"
            ],
            "image/png": "[encoded data removed]"
          },
          "metadata": {
            "needs_background": "light"
          }
        }
      ]
    },
    {
      "cell_type": "code",
      "source": [
        "# Checking for Anomalies\n",
        "#\n",
        "\n",
        "# We have future years on our data i.e 2029, 2056, 2039\n",
        "\n",
        "df['year'].unique()\n",
        "\n",
        "# Lets check how many records there are for each\n",
        "future = df[(df['year'] == 2029) | (df['year'] == 2039) | (df['year'] == 2056)]\n",
        "\n",
        "# convert this to percentage of the total\n",
        "future_percent = (future.shape[0]/df.shape[0]) * 100\n",
        "future_percent\n",
        "# this is only 0.0127% of the whole dataset hence we can drop these rows\n",
        "\n",
        "# Dropping rows function\n",
        "def drop_row(row):\n",
        "  df.drop(df.loc[df['year'] == row].index , inplace=True)\n",
        "\n",
        "rows = [2029, 2039, 2056]\n",
        "\n",
        "for row in rows:\n",
        "   drop_row(row)\n",
        "   "
      ],
      "metadata": {
        "id": "uMwpd4DbLzNI"
      },
      "execution_count": 507,
      "outputs": []
    },
    {
      "cell_type": "code",
      "metadata": {
        "id": "PvCYb6dgW4yh",
        "colab": {
          "base_uri": "https://localhost:8080/"
        },
        "outputId": "6a64caa0-d575-4347-ea7a-18836caf0783"
      },
      "source": [
        "# Identifying the Missing Data\n",
        "#\n",
        "df.isnull().sum()\n"
      ],
      "execution_count": 508,
      "outputs": [
        {
          "output_type": "execute_result",
          "data": {
            "text/plain": [
              "country                   14\n",
              "year                       0\n",
              "uniqueid                   0\n",
              "Has a Bank account        36\n",
              "Type of Location          15\n",
              "Cell Phone Access         11\n",
              "household_size            28\n",
              "Respondent Age            34\n",
              "gender_of_respondent      34\n",
              "The relathip with head     4\n",
              "marital_status            32\n",
              "Level of Educuation       29\n",
              "Type of Job               30\n",
              "dtype: int64"
            ]
          },
          "metadata": {},
          "execution_count": 508
        }
      ]
    },
    {
      "cell_type": "code",
      "source": [
        "# Check percentage of missing data in each column\n",
        "def missing_percent(column):\n",
        "  return (df[column].isna().sum()/df.shape[0]) * 100\n",
        "\n",
        "for column in df.columns:\n",
        "  print(column, ':', missing_percent(column))  \n",
        "\n",
        "# The missing values all cover a very small percentage of the whole data.\n",
        "# We can choose to drop the rows with this missing values or fill them using \n",
        "# appropriate methods."
      ],
      "metadata": {
        "colab": {
          "base_uri": "https://localhost:8080/"
        },
        "id": "6mZeSpFYlW80",
        "outputId": "4dcc912c-88a3-47f8-a474-2d7c5668fa54"
      },
      "execution_count": 509,
      "outputs": [
        {
          "output_type": "stream",
          "name": "stdout",
          "text": [
            "country : 0.05952127885719145\n",
            "year : 0.0\n",
            "uniqueid : 0.0\n",
            "Has a Bank account : 0.15305471706134943\n",
            "Type of Location : 0.06377279877556227\n",
            "Cell Phone Access : 0.046766719102078996\n",
            "household_size : 0.1190425577143829\n",
            "Respondent Age : 0.1445516772246078\n",
            "gender_of_respondent : 0.1445516772246078\n",
            "The relathip with head : 0.01700607967348327\n",
            "marital_status : 0.13604863738786616\n",
            "Level of Educuation : 0.12329407763275371\n",
            "Type of Job : 0.12754559755112455\n"
          ]
        }
      ]
    },
    {
      "cell_type": "code",
      "metadata": {
        "id": "MpsDGKZHsf_W"
      },
      "source": [
        "# Dealing with the Missing Data\n",
        "#\n",
        "# Fill null values for household_size, respondent age(numeric datatypes) with the mean\n",
        "df['household_size'] = df['household_size'].fillna(df['household_size'].mean())\n",
        "df['Respondent Age'] = df['Respondent Age'].fillna(df['Respondent Age'].mean())\n",
        "\n",
        "# For categorical data we shall fill using appropriate methods for each\n",
        "# since countries were filled systematically, we shall use forward fill\n",
        "\n",
        "# create a funtion to forward fill\n",
        "def fillna_ffill(column):\n",
        "    df[column] = df[column].fillna(method='ffill')\n",
        "\n",
        "fillna_ffill('country')\n",
        "# we shall also apply the same for Type of Location, The relathip with head, marital_status,\n",
        "# Level of Educuation, Type of Job and gender_of_respondent\n",
        "\n",
        "columns = ['Type of Location', 'The relathip with head', 'marital_status', 'Level of Educuation', 'Type of Job',\n",
        " 'gender_of_respondent']\n",
        "for column in columns:\n",
        "   fillna_ffill(column)\n",
        "\n",
        "# we shall fill the close answer questions with ffill\n",
        "fillna_ffill('Has a Bank account')  \n",
        "fillna_ffill('Cell Phone Access')"
      ],
      "execution_count": 510,
      "outputs": []
    },
    {
      "cell_type": "code",
      "metadata": {
        "id": "D-4I__6Os4C5"
      },
      "source": [
        "# More data cleaning procedures\n",
        "#\n",
        "# Check for duplicates \n",
        "df.duplicated().sum()\n",
        "\n",
        "# There are no duplicates in our data\n",
        "\n",
        "# check for whitespaces\n",
        "columns = [column for column in df.columns]\n",
        "if df[column].dtype == 'O':\n",
        "     df[column] = df[column].str.replace(' ', '')\n",
        "     "
      ],
      "execution_count": 511,
      "outputs": []
    },
    {
      "cell_type": "code",
      "source": [
        "# converting household size and respondent age to int as they can only be whole numbers.\n",
        "\n",
        "def float_to_int(data):\n",
        "  return data.astype(int)\n",
        "\n",
        "columns = ['household_size', 'Respondent Age']\n",
        "\n",
        "for column in columns:\n",
        "    df[column] =  float_to_int(df[column])"
      ],
      "metadata": {
        "id": "vQxMYgdN2Qt5"
      },
      "execution_count": 512,
      "outputs": []
    },
    {
      "cell_type": "code",
      "source": [
        "# Renaming columns for uniformity\n",
        "columns = []\n",
        "for column_name in df.columns:\n",
        "   column_name = column_name.lower().replace(' ','_')\n",
        "   columns.append(column_name)\n",
        "\n",
        "df.columns  = columns\n",
        "df.columns"
      ],
      "metadata": {
        "colab": {
          "base_uri": "https://localhost:8080/"
        },
        "id": "LrgocBDX5LnL",
        "outputId": "383d6ced-e081-46ce-a5c3-28bae55f8c00"
      },
      "execution_count": 513,
      "outputs": [
        {
          "output_type": "execute_result",
          "data": {
            "text/plain": [
              "Index(['country', 'year', 'uniqueid', 'has_a_bank_account', 'type_of_location',\n",
              "       'cell_phone_access', 'household_size', 'respondent_age',\n",
              "       'gender_of_respondent', 'the_relathip_with_head', 'marital_status',\n",
              "       'level_of_educuation', 'type_of_job'],\n",
              "      dtype='object')"
            ]
          },
          "metadata": {},
          "execution_count": 513
        }
      ]
    },
    {
      "cell_type": "markdown",
      "metadata": {
        "id": "rF2ABPsHUtbZ"
      },
      "source": [
        "## 6. Exploratory Analysis"
      ]
    },
    {
      "cell_type": "markdown",
      "source": [
        "### <font color='violet'>Univariate Analysis</font>"
      ],
      "metadata": {
        "id": "XNVE4J-pZXLJ"
      }
    },
    {
      "cell_type": "code",
      "source": [
        "# Ploting the univariate summaries and recording our observations\n",
        "#\n",
        "# Lets first describe our data\n",
        "df.describe(include='all')\n",
        "\n",
        "# The years included in our dataset are 2016 to 2018\n",
        "# Since there are more than 14000 duplicated values for uniqueid with different attributes,\n",
        "# we are going to assume that the data belongs to different people.\n",
        "# Average household size is 4\n",
        "# Average respondent age is 38 and age ranges from 16 fo 100\n",
        "# Household size ranges from 0(leaves alone) to a maximum of 21. "
      ],
      "metadata": {
        "colab": {
          "base_uri": "https://localhost:8080/",
          "height": 475
        },
        "id": "qIZ4flSaeFsN",
        "outputId": "4c1bf858-e48a-4525-d538-7f4ca2502535"
      },
      "execution_count": 514,
      "outputs": [
        {
          "output_type": "execute_result",
          "data": {
            "text/plain": [
              "       country          year    uniqueid has_a_bank_account type_of_location  \\\n",
              "count    23521  23521.000000       23521              23521            23521   \n",
              "unique       4           NaN        8735                  2                2   \n",
              "top     Rwanda           NaN  uniqueid_1                 No            Rural   \n",
              "freq      8734           NaN           4              20197            14342   \n",
              "mean       NaN   2016.975894         NaN                NaN              NaN   \n",
              "std        NaN      0.847348         NaN                NaN              NaN   \n",
              "min        NaN   2016.000000         NaN                NaN              NaN   \n",
              "25%        NaN   2016.000000         NaN                NaN              NaN   \n",
              "50%        NaN   2017.000000         NaN                NaN              NaN   \n",
              "75%        NaN   2018.000000         NaN                NaN              NaN   \n",
              "max        NaN   2018.000000         NaN                NaN              NaN   \n",
              "\n",
              "       cell_phone_access  household_size  respondent_age gender_of_respondent  \\\n",
              "count              23521    23521.000000    23521.000000                23521   \n",
              "unique                 2             NaN             NaN                    2   \n",
              "top                  Yes             NaN             NaN               Female   \n",
              "freq               17449             NaN             NaN                13875   \n",
              "mean                 NaN        3.680923       38.804685                  NaN   \n",
              "std                  NaN        2.278787       16.508180                  NaN   \n",
              "min                  NaN        0.000000       16.000000                  NaN   \n",
              "25%                  NaN        2.000000       26.000000                  NaN   \n",
              "50%                  NaN        3.000000       35.000000                  NaN   \n",
              "75%                  NaN        5.000000       49.000000                  NaN   \n",
              "max                  NaN       21.000000      100.000000                  NaN   \n",
              "\n",
              "       the_relathip_with_head           marital_status level_of_educuation  \\\n",
              "count                   23521                    23521               23521   \n",
              "unique                      6                        5                   7   \n",
              "top         Head of Household  Married/Living together   Primary education   \n",
              "freq                    12832                    10737               12782   \n",
              "mean                      NaN                      NaN                 NaN   \n",
              "std                       NaN                      NaN                 NaN   \n",
              "min                       NaN                      NaN                 NaN   \n",
              "25%                       NaN                      NaN                 NaN   \n",
              "50%                       NaN                      NaN                 NaN   \n",
              "75%                       NaN                      NaN                 NaN   \n",
              "max                       NaN                      NaN                 NaN   \n",
              "\n",
              "          type_of_job  \n",
              "count           23521  \n",
              "unique             10  \n",
              "top     Self employed  \n",
              "freq             6437  \n",
              "mean              NaN  \n",
              "std               NaN  \n",
              "min               NaN  \n",
              "25%               NaN  \n",
              "50%               NaN  \n",
              "75%               NaN  \n",
              "max               NaN  "
            ],
            "text/html": [
              "\n",
              "  <div id=\"df-303770be-d298-4c2c-8e26-4872f2f94941\">\n",
              "    <div class=\"colab-df-container\">\n",
              "      <div>\n",
              "<style scoped>\n",
              "    .dataframe tbody tr th:only-of-type {\n",
              "        vertical-align: middle;\n",
              "    }\n",
              "\n",
              "    .dataframe tbody tr th {\n",
              "        vertical-align: top;\n",
              "    }\n",
              "\n",
              "    .dataframe thead th {\n",
              "        text-align: right;\n",
              "    }\n",
              "</style>\n",
              "<table border=\"1\" class=\"dataframe\">\n",
              "  <thead>\n",
              "    <tr style=\"text-align: right;\">\n",
              "      <th></th>\n",
              "      <th>country</th>\n",
              "      <th>year</th>\n",
              "      <th>uniqueid</th>\n",
              "      <th>has_a_bank_account</th>\n",
              "      <th>type_of_location</th>\n",
              "      <th>cell_phone_access</th>\n",
              "      <th>household_size</th>\n",
              "      <th>respondent_age</th>\n",
              "      <th>gender_of_respondent</th>\n",
              "      <th>the_relathip_with_head</th>\n",
              "      <th>marital_status</th>\n",
              "      <th>level_of_educuation</th>\n",
              "      <th>type_of_job</th>\n",
              "    </tr>\n",
              "  </thead>\n",
              "  <tbody>\n",
              "    <tr>\n",
              "      <th>count</th>\n",
              "      <td>23521</td>\n",
              "      <td>23521.000000</td>\n",
              "      <td>23521</td>\n",
              "      <td>23521</td>\n",
              "      <td>23521</td>\n",
              "      <td>23521</td>\n",
              "      <td>23521.000000</td>\n",
              "      <td>23521.000000</td>\n",
              "      <td>23521</td>\n",
              "      <td>23521</td>\n",
              "      <td>23521</td>\n",
              "      <td>23521</td>\n",
              "      <td>23521</td>\n",
              "    </tr>\n",
              "    <tr>\n",
              "      <th>unique</th>\n",
              "      <td>4</td>\n",
              "      <td>NaN</td>\n",
              "      <td>8735</td>\n",
              "      <td>2</td>\n",
              "      <td>2</td>\n",
              "      <td>2</td>\n",
              "      <td>NaN</td>\n",
              "      <td>NaN</td>\n",
              "      <td>2</td>\n",
              "      <td>6</td>\n",
              "      <td>5</td>\n",
              "      <td>7</td>\n",
              "      <td>10</td>\n",
              "    </tr>\n",
              "    <tr>\n",
              "      <th>top</th>\n",
              "      <td>Rwanda</td>\n",
              "      <td>NaN</td>\n",
              "      <td>uniqueid_1</td>\n",
              "      <td>No</td>\n",
              "      <td>Rural</td>\n",
              "      <td>Yes</td>\n",
              "      <td>NaN</td>\n",
              "      <td>NaN</td>\n",
              "      <td>Female</td>\n",
              "      <td>Head of Household</td>\n",
              "      <td>Married/Living together</td>\n",
              "      <td>Primary education</td>\n",
              "      <td>Self employed</td>\n",
              "    </tr>\n",
              "    <tr>\n",
              "      <th>freq</th>\n",
              "      <td>8734</td>\n",
              "      <td>NaN</td>\n",
              "      <td>4</td>\n",
              "      <td>20197</td>\n",
              "      <td>14342</td>\n",
              "      <td>17449</td>\n",
              "      <td>NaN</td>\n",
              "      <td>NaN</td>\n",
              "      <td>13875</td>\n",
              "      <td>12832</td>\n",
              "      <td>10737</td>\n",
              "      <td>12782</td>\n",
              "      <td>6437</td>\n",
              "    </tr>\n",
              "    <tr>\n",
              "      <th>mean</th>\n",
              "      <td>NaN</td>\n",
              "      <td>2016.975894</td>\n",
              "      <td>NaN</td>\n",
              "      <td>NaN</td>\n",
              "      <td>NaN</td>\n",
              "      <td>NaN</td>\n",
              "      <td>3.680923</td>\n",
              "      <td>38.804685</td>\n",
              "      <td>NaN</td>\n",
              "      <td>NaN</td>\n",
              "      <td>NaN</td>\n",
              "      <td>NaN</td>\n",
              "      <td>NaN</td>\n",
              "    </tr>\n",
              "    <tr>\n",
              "      <th>std</th>\n",
              "      <td>NaN</td>\n",
              "      <td>0.847348</td>\n",
              "      <td>NaN</td>\n",
              "      <td>NaN</td>\n",
              "      <td>NaN</td>\n",
              "      <td>NaN</td>\n",
              "      <td>2.278787</td>\n",
              "      <td>16.508180</td>\n",
              "      <td>NaN</td>\n",
              "      <td>NaN</td>\n",
              "      <td>NaN</td>\n",
              "      <td>NaN</td>\n",
              "      <td>NaN</td>\n",
              "    </tr>\n",
              "    <tr>\n",
              "      <th>min</th>\n",
              "      <td>NaN</td>\n",
              "      <td>2016.000000</td>\n",
              "      <td>NaN</td>\n",
              "      <td>NaN</td>\n",
              "      <td>NaN</td>\n",
              "      <td>NaN</td>\n",
              "      <td>0.000000</td>\n",
              "      <td>16.000000</td>\n",
              "      <td>NaN</td>\n",
              "      <td>NaN</td>\n",
              "      <td>NaN</td>\n",
              "      <td>NaN</td>\n",
              "      <td>NaN</td>\n",
              "    </tr>\n",
              "    <tr>\n",
              "      <th>25%</th>\n",
              "      <td>NaN</td>\n",
              "      <td>2016.000000</td>\n",
              "      <td>NaN</td>\n",
              "      <td>NaN</td>\n",
              "      <td>NaN</td>\n",
              "      <td>NaN</td>\n",
              "      <td>2.000000</td>\n",
              "      <td>26.000000</td>\n",
              "      <td>NaN</td>\n",
              "      <td>NaN</td>\n",
              "      <td>NaN</td>\n",
              "      <td>NaN</td>\n",
              "      <td>NaN</td>\n",
              "    </tr>\n",
              "    <tr>\n",
              "      <th>50%</th>\n",
              "      <td>NaN</td>\n",
              "      <td>2017.000000</td>\n",
              "      <td>NaN</td>\n",
              "      <td>NaN</td>\n",
              "      <td>NaN</td>\n",
              "      <td>NaN</td>\n",
              "      <td>3.000000</td>\n",
              "      <td>35.000000</td>\n",
              "      <td>NaN</td>\n",
              "      <td>NaN</td>\n",
              "      <td>NaN</td>\n",
              "      <td>NaN</td>\n",
              "      <td>NaN</td>\n",
              "    </tr>\n",
              "    <tr>\n",
              "      <th>75%</th>\n",
              "      <td>NaN</td>\n",
              "      <td>2018.000000</td>\n",
              "      <td>NaN</td>\n",
              "      <td>NaN</td>\n",
              "      <td>NaN</td>\n",
              "      <td>NaN</td>\n",
              "      <td>5.000000</td>\n",
              "      <td>49.000000</td>\n",
              "      <td>NaN</td>\n",
              "      <td>NaN</td>\n",
              "      <td>NaN</td>\n",
              "      <td>NaN</td>\n",
              "      <td>NaN</td>\n",
              "    </tr>\n",
              "    <tr>\n",
              "      <th>max</th>\n",
              "      <td>NaN</td>\n",
              "      <td>2018.000000</td>\n",
              "      <td>NaN</td>\n",
              "      <td>NaN</td>\n",
              "      <td>NaN</td>\n",
              "      <td>NaN</td>\n",
              "      <td>21.000000</td>\n",
              "      <td>100.000000</td>\n",
              "      <td>NaN</td>\n",
              "      <td>NaN</td>\n",
              "      <td>NaN</td>\n",
              "      <td>NaN</td>\n",
              "      <td>NaN</td>\n",
              "    </tr>\n",
              "  </tbody>\n",
              "</table>\n",
              "</div>\n",
              "      <button class=\"colab-df-convert\" onclick=\"convertToInteractive('df-303770be-d298-4c2c-8e26-4872f2f94941')\"\n",
              "              title=\"Convert this dataframe to an interactive table.\"\n",
              "              style=\"display:none;\">\n",
              "        \n",
              "  <svg xmlns=\"http://www.w3.org/2000/svg\" height=\"24px\"viewBox=\"0 0 24 24\"\n",
              "       width=\"24px\">\n",
              "    <path d=\"M0 0h24v24H0V0z\" fill=\"none\"/>\n",
              "    <path d=\"M18.56 5.44l.94 2.06.94-2.06 2.06-.94-2.06-.94-.94-2.06-.94 2.06-2.06.94zm-11 1L8.5 8.5l.94-2.06 2.06-.94-2.06-.94L8.5 2.5l-.94 2.06-2.06.94zm10 10l.94 2.06.94-2.06 2.06-.94-2.06-.94-.94-2.06-.94 2.06-2.06.94z\"/><path d=\"M17.41 7.96l-1.37-1.37c-.4-.4-.92-.59-1.43-.59-.52 0-1.04.2-1.43.59L10.3 9.45l-7.72 7.72c-.78.78-.78 2.05 0 2.83L4 21.41c.39.39.9.59 1.41.59.51 0 1.02-.2 1.41-.59l7.78-7.78 2.81-2.81c.8-.78.8-2.07 0-2.86zM5.41 20L4 18.59l7.72-7.72 1.47 1.35L5.41 20z\"/>\n",
              "  </svg>\n",
              "      </button>\n",
              "      \n",
              "  <style>\n",
              "    .colab-df-container {\n",
              "      display:flex;\n",
              "      flex-wrap:wrap;\n",
              "      gap: 12px;\n",
              "    }\n",
              "\n",
              "    .colab-df-convert {\n",
              "      background-color: #E8F0FE;\n",
              "      border: none;\n",
              "      border-radius: 50%;\n",
              "      cursor: pointer;\n",
              "      display: none;\n",
              "      fill: #1967D2;\n",
              "      height: 32px;\n",
              "      padding: 0 0 0 0;\n",
              "      width: 32px;\n",
              "    }\n",
              "\n",
              "    .colab-df-convert:hover {\n",
              "      background-color: #E2EBFA;\n",
              "      box-shadow: 0px 1px 2px rgba(60, 64, 67, 0.3), 0px 1px 3px 1px rgba(60, 64, 67, 0.15);\n",
              "      fill: #174EA6;\n",
              "    }\n",
              "\n",
              "    [theme=dark] .colab-df-convert {\n",
              "      background-color: #3B4455;\n",
              "      fill: #D2E3FC;\n",
              "    }\n",
              "\n",
              "    [theme=dark] .colab-df-convert:hover {\n",
              "      background-color: #434B5C;\n",
              "      box-shadow: 0px 1px 3px 1px rgba(0, 0, 0, 0.15);\n",
              "      filter: drop-shadow(0px 1px 2px rgba(0, 0, 0, 0.3));\n",
              "      fill: #FFFFFF;\n",
              "    }\n",
              "  </style>\n",
              "\n",
              "      <script>\n",
              "        const buttonEl =\n",
              "          document.querySelector('#df-303770be-d298-4c2c-8e26-4872f2f94941 button.colab-df-convert');\n",
              "        buttonEl.style.display =\n",
              "          google.colab.kernel.accessAllowed ? 'block' : 'none';\n",
              "\n",
              "        async function convertToInteractive(key) {\n",
              "          const element = document.querySelector('#df-303770be-d298-4c2c-8e26-4872f2f94941');\n",
              "          const dataTable =\n",
              "            await google.colab.kernel.invokeFunction('convertToInteractive',\n",
              "                                                     [key], {});\n",
              "          if (!dataTable) return;\n",
              "\n",
              "          const docLinkHtml = 'Like what you see? Visit the ' +\n",
              "            '<a target=\"_blank\" href=https://colab.research.google.com/notebooks/data_table.ipynb>data table notebook</a>'\n",
              "            + ' to learn more about interactive tables.';\n",
              "          element.innerHTML = '';\n",
              "          dataTable['output_type'] = 'display_data';\n",
              "          await google.colab.output.renderOutput(dataTable, element);\n",
              "          const docLink = document.createElement('div');\n",
              "          docLink.innerHTML = docLinkHtml;\n",
              "          element.appendChild(docLink);\n",
              "        }\n",
              "      </script>\n",
              "    </div>\n",
              "  </div>\n",
              "  "
            ]
          },
          "metadata": {},
          "execution_count": 514
        }
      ]
    },
    {
      "cell_type": "code",
      "source": [
        "# Filter the data to include individuals with bank accounts\n",
        "bank =  df[df['has_a_bank_account'] == 'Yes']\n",
        "bank.head()"
      ],
      "metadata": {
        "colab": {
          "base_uri": "https://localhost:8080/",
          "height": 357
        },
        "id": "kue59J2TBJY3",
        "outputId": "ba2b666a-d6c8-4eec-ed3c-a858e45f38a3"
      },
      "execution_count": 515,
      "outputs": [
        {
          "output_type": "execute_result",
          "data": {
            "text/plain": [
              "   country  year     uniqueid has_a_bank_account type_of_location  \\\n",
              "0    Kenya  2018   uniqueid_1                Yes            Rural   \n",
              "2    Kenya  2018   uniqueid_3                Yes            Urban   \n",
              "8    Kenya  2018   uniqueid_9                Yes            Rural   \n",
              "11   Kenya  2018  uniqueid_12                Yes            Rural   \n",
              "17   Kenya  2018  uniqueid_18                Yes            Rural   \n",
              "\n",
              "   cell_phone_access  household_size  respondent_age gender_of_respondent  \\\n",
              "0                Yes               3              24               Female   \n",
              "2                Yes               5              26                 Male   \n",
              "8                Yes               3              54                 Male   \n",
              "11               Yes               3              69                 Male   \n",
              "17               Yes               6              27               Female   \n",
              "\n",
              "   the_relathip_with_head           marital_status  \\\n",
              "0                  Spouse  Married/Living together   \n",
              "2          Other relative     Single/Never Married   \n",
              "8       Head of Household  Married/Living together   \n",
              "11      Head of Household  Married/Living together   \n",
              "17      Head of Household  Married/Living together   \n",
              "\n",
              "                level_of_educuation          type_of_job  \n",
              "0               Secondary education        Self employed  \n",
              "2   Vocational/Specialised training        Self employed  \n",
              "8               Secondary education  Farming and Fishing  \n",
              "11              Secondary education         Other Income  \n",
              "17              Secondary education        Self employed  "
            ],
            "text/html": [
              "\n",
              "  <div id=\"df-1293f4a4-c525-4f55-8e4e-c0743ee39540\">\n",
              "    <div class=\"colab-df-container\">\n",
              "      <div>\n",
              "<style scoped>\n",
              "    .dataframe tbody tr th:only-of-type {\n",
              "        vertical-align: middle;\n",
              "    }\n",
              "\n",
              "    .dataframe tbody tr th {\n",
              "        vertical-align: top;\n",
              "    }\n",
              "\n",
              "    .dataframe thead th {\n",
              "        text-align: right;\n",
              "    }\n",
              "</style>\n",
              "<table border=\"1\" class=\"dataframe\">\n",
              "  <thead>\n",
              "    <tr style=\"text-align: right;\">\n",
              "      <th></th>\n",
              "      <th>country</th>\n",
              "      <th>year</th>\n",
              "      <th>uniqueid</th>\n",
              "      <th>has_a_bank_account</th>\n",
              "      <th>type_of_location</th>\n",
              "      <th>cell_phone_access</th>\n",
              "      <th>household_size</th>\n",
              "      <th>respondent_age</th>\n",
              "      <th>gender_of_respondent</th>\n",
              "      <th>the_relathip_with_head</th>\n",
              "      <th>marital_status</th>\n",
              "      <th>level_of_educuation</th>\n",
              "      <th>type_of_job</th>\n",
              "    </tr>\n",
              "  </thead>\n",
              "  <tbody>\n",
              "    <tr>\n",
              "      <th>0</th>\n",
              "      <td>Kenya</td>\n",
              "      <td>2018</td>\n",
              "      <td>uniqueid_1</td>\n",
              "      <td>Yes</td>\n",
              "      <td>Rural</td>\n",
              "      <td>Yes</td>\n",
              "      <td>3</td>\n",
              "      <td>24</td>\n",
              "      <td>Female</td>\n",
              "      <td>Spouse</td>\n",
              "      <td>Married/Living together</td>\n",
              "      <td>Secondary education</td>\n",
              "      <td>Self employed</td>\n",
              "    </tr>\n",
              "    <tr>\n",
              "      <th>2</th>\n",
              "      <td>Kenya</td>\n",
              "      <td>2018</td>\n",
              "      <td>uniqueid_3</td>\n",
              "      <td>Yes</td>\n",
              "      <td>Urban</td>\n",
              "      <td>Yes</td>\n",
              "      <td>5</td>\n",
              "      <td>26</td>\n",
              "      <td>Male</td>\n",
              "      <td>Other relative</td>\n",
              "      <td>Single/Never Married</td>\n",
              "      <td>Vocational/Specialised training</td>\n",
              "      <td>Self employed</td>\n",
              "    </tr>\n",
              "    <tr>\n",
              "      <th>8</th>\n",
              "      <td>Kenya</td>\n",
              "      <td>2018</td>\n",
              "      <td>uniqueid_9</td>\n",
              "      <td>Yes</td>\n",
              "      <td>Rural</td>\n",
              "      <td>Yes</td>\n",
              "      <td>3</td>\n",
              "      <td>54</td>\n",
              "      <td>Male</td>\n",
              "      <td>Head of Household</td>\n",
              "      <td>Married/Living together</td>\n",
              "      <td>Secondary education</td>\n",
              "      <td>Farming and Fishing</td>\n",
              "    </tr>\n",
              "    <tr>\n",
              "      <th>11</th>\n",
              "      <td>Kenya</td>\n",
              "      <td>2018</td>\n",
              "      <td>uniqueid_12</td>\n",
              "      <td>Yes</td>\n",
              "      <td>Rural</td>\n",
              "      <td>Yes</td>\n",
              "      <td>3</td>\n",
              "      <td>69</td>\n",
              "      <td>Male</td>\n",
              "      <td>Head of Household</td>\n",
              "      <td>Married/Living together</td>\n",
              "      <td>Secondary education</td>\n",
              "      <td>Other Income</td>\n",
              "    </tr>\n",
              "    <tr>\n",
              "      <th>17</th>\n",
              "      <td>Kenya</td>\n",
              "      <td>2018</td>\n",
              "      <td>uniqueid_18</td>\n",
              "      <td>Yes</td>\n",
              "      <td>Rural</td>\n",
              "      <td>Yes</td>\n",
              "      <td>6</td>\n",
              "      <td>27</td>\n",
              "      <td>Female</td>\n",
              "      <td>Head of Household</td>\n",
              "      <td>Married/Living together</td>\n",
              "      <td>Secondary education</td>\n",
              "      <td>Self employed</td>\n",
              "    </tr>\n",
              "  </tbody>\n",
              "</table>\n",
              "</div>\n",
              "      <button class=\"colab-df-convert\" onclick=\"convertToInteractive('df-1293f4a4-c525-4f55-8e4e-c0743ee39540')\"\n",
              "              title=\"Convert this dataframe to an interactive table.\"\n",
              "              style=\"display:none;\">\n",
              "        \n",
              "  <svg xmlns=\"http://www.w3.org/2000/svg\" height=\"24px\"viewBox=\"0 0 24 24\"\n",
              "       width=\"24px\">\n",
              "    <path d=\"M0 0h24v24H0V0z\" fill=\"none\"/>\n",
              "    <path d=\"M18.56 5.44l.94 2.06.94-2.06 2.06-.94-2.06-.94-.94-2.06-.94 2.06-2.06.94zm-11 1L8.5 8.5l.94-2.06 2.06-.94-2.06-.94L8.5 2.5l-.94 2.06-2.06.94zm10 10l.94 2.06.94-2.06 2.06-.94-2.06-.94-.94-2.06-.94 2.06-2.06.94z\"/><path d=\"M17.41 7.96l-1.37-1.37c-.4-.4-.92-.59-1.43-.59-.52 0-1.04.2-1.43.59L10.3 9.45l-7.72 7.72c-.78.78-.78 2.05 0 2.83L4 21.41c.39.39.9.59 1.41.59.51 0 1.02-.2 1.41-.59l7.78-7.78 2.81-2.81c.8-.78.8-2.07 0-2.86zM5.41 20L4 18.59l7.72-7.72 1.47 1.35L5.41 20z\"/>\n",
              "  </svg>\n",
              "      </button>\n",
              "      \n",
              "  <style>\n",
              "    .colab-df-container {\n",
              "      display:flex;\n",
              "      flex-wrap:wrap;\n",
              "      gap: 12px;\n",
              "    }\n",
              "\n",
              "    .colab-df-convert {\n",
              "      background-color: #E8F0FE;\n",
              "      border: none;\n",
              "      border-radius: 50%;\n",
              "      cursor: pointer;\n",
              "      display: none;\n",
              "      fill: #1967D2;\n",
              "      height: 32px;\n",
              "      padding: 0 0 0 0;\n",
              "      width: 32px;\n",
              "    }\n",
              "\n",
              "    .colab-df-convert:hover {\n",
              "      background-color: #E2EBFA;\n",
              "      box-shadow: 0px 1px 2px rgba(60, 64, 67, 0.3), 0px 1px 3px 1px rgba(60, 64, 67, 0.15);\n",
              "      fill: #174EA6;\n",
              "    }\n",
              "\n",
              "    [theme=dark] .colab-df-convert {\n",
              "      background-color: #3B4455;\n",
              "      fill: #D2E3FC;\n",
              "    }\n",
              "\n",
              "    [theme=dark] .colab-df-convert:hover {\n",
              "      background-color: #434B5C;\n",
              "      box-shadow: 0px 1px 3px 1px rgba(0, 0, 0, 0.15);\n",
              "      filter: drop-shadow(0px 1px 2px rgba(0, 0, 0, 0.3));\n",
              "      fill: #FFFFFF;\n",
              "    }\n",
              "  </style>\n",
              "\n",
              "      <script>\n",
              "        const buttonEl =\n",
              "          document.querySelector('#df-1293f4a4-c525-4f55-8e4e-c0743ee39540 button.colab-df-convert');\n",
              "        buttonEl.style.display =\n",
              "          google.colab.kernel.accessAllowed ? 'block' : 'none';\n",
              "\n",
              "        async function convertToInteractive(key) {\n",
              "          const element = document.querySelector('#df-1293f4a4-c525-4f55-8e4e-c0743ee39540');\n",
              "          const dataTable =\n",
              "            await google.colab.kernel.invokeFunction('convertToInteractive',\n",
              "                                                     [key], {});\n",
              "          if (!dataTable) return;\n",
              "\n",
              "          const docLinkHtml = 'Like what you see? Visit the ' +\n",
              "            '<a target=\"_blank\" href=https://colab.research.google.com/notebooks/data_table.ipynb>data table notebook</a>'\n",
              "            + ' to learn more about interactive tables.';\n",
              "          element.innerHTML = '';\n",
              "          dataTable['output_type'] = 'display_data';\n",
              "          await google.colab.output.renderOutput(dataTable, element);\n",
              "          const docLink = document.createElement('div');\n",
              "          docLink.innerHTML = docLinkHtml;\n",
              "          element.appendChild(docLink);\n",
              "        }\n",
              "      </script>\n",
              "    </div>\n",
              "  </div>\n",
              "  "
            ]
          },
          "metadata": {},
          "execution_count": 515
        }
      ]
    },
    {
      "cell_type": "code",
      "metadata": {
        "id": "5nnRToniXGDK",
        "colab": {
          "base_uri": "https://localhost:8080/",
          "height": 329
        },
        "outputId": "4ac9b194-707b-49c9-8b98-46db52c3bd43"
      },
      "source": [
        "# checking country count for individuals with bank accounts from our sample\n",
        "\n",
        "bank.country.value_counts().plot.bar()\n",
        "\n",
        "# Label graph\n",
        "plt.title('Country representation of individuals with a bank account')\n",
        "plt.xlabel('Country')\n",
        "plt.ylabel('Count')\n",
        "plt.show()\n",
        "\n",
        "# Kenya has the highest ratio of individuals that have a bank account in our sample data.\n",
        "# Most Kenyans are therefore highly likely to open a bank account that individuals in other countries."
      ],
      "execution_count": 516,
      "outputs": [
        {
          "output_type": "display_data",
          "data": {
            "text/plain": [
              "<Figure size 432x288 with 1 Axes>"
            ],
            "image/png": "[encoded data removed]"
          },
          "metadata": {
            "needs_background": "light"
          }
        }
      ]
    },
    {
      "cell_type": "code",
      "source": [
        "# Job Vs owns a bank account\n",
        "\n",
        "bank.type_of_job.value_counts().plot.bar()\n",
        "\n",
        "# Label graph\n",
        "plt.title('Type of jobs representation of individuals with a bank account')\n",
        "plt.xlabel('Type of jobs')\n",
        "plt.xticks(rotation='vertical')\n",
        "plt.ylabel('Count')\n",
        "plt.show()\n",
        "\n",
        "# The highest number of people with a bank account are self employed from our dataset.\n",
        "# The type of jo target should be these people. "
      ],
      "metadata": {
        "colab": {
          "base_uri": "https://localhost:8080/",
          "height": 446
        },
        "id": "GW0MpnOh1SoZ",
        "outputId": "e42c3f0b-a244-4dd1-db67-55282646abbb"
      },
      "execution_count": 517,
      "outputs": [
        {
          "output_type": "display_data",
          "data": {
            "text/plain": [
              "<Figure size 432x288 with 1 Axes>"
            ],
            "image/png": "[encoded data removed]"
          },
          "metadata": {
            "needs_background": "light"
          }
        }
      ]
    },
    {
      "cell_type": "code",
      "source": [
        "# Get ages represented in our dataset from the maximum age to the minimum\n",
        "df['respondent_age'].value_counts().sort_index().plot.bar(figsize=(20,4))\n",
        "plt.title('Age representation Bar chart')\n",
        "plt.xlabel('Age')\n",
        "plt.ylabel('Count')\n",
        "plt.show()\n",
        "# Ages range from 16 to 100\n",
        "# The age with the highest count in our sample data is age 30 with over 1000 individuals"
      ],
      "metadata": {
        "colab": {
          "base_uri": "https://localhost:8080/",
          "height": 226
        },
        "id": "jty7OIoucRnI",
        "outputId": "90485fd3-3f99-4be5-f712-908020fdd5b3"
      },
      "execution_count": 562,
      "outputs": [
        {
          "output_type": "display_data",
          "data": {
            "text/plain": [
              "<Figure size 1440x288 with 1 Axes>"
            ],
            "image/png": "[encoded data removed]"
          },
          "metadata": {
            "needs_background": "light"
          }
        }
      ]
    },
    {
      "cell_type": "code",
      "source": [
        "# Age likely to have bank account\n",
        "plt.figure(figsize=(20,5))\n",
        "bank.respondent_age.value_counts().sort_index().plot.bar()\n",
        "\n",
        "\n",
        "# Label graph\n",
        "\n",
        "plt.title('Age representation of individuals with a bank account')\n",
        "plt.xlabel('Age')\n",
        "plt.xticks(rotation='vertical')\n",
        "plt.ylabel('Ratio')\n",
        "plt.show()\n",
        "\n",
        "\n",
        "# Ages between 16 and 50 are the individuals who are likely to have bank accounts.\n",
        "# The youth should be targeted when creating awareness on banking "
      ],
      "metadata": {
        "colab": {
          "base_uri": "https://localhost:8080/",
          "height": 263
        },
        "id": "t3fH3Ui_3TZb",
        "outputId": "93c648e2-2907-42bc-aa40-8e46993158e5"
      },
      "execution_count": 519,
      "outputs": [
        {
          "output_type": "display_data",
          "data": {
            "text/plain": [
              "<Figure size 1440x360 with 1 Axes>"
            ],
            "image/png": "[encoded data removed]"
          },
          "metadata": {
            "needs_background": "light"
          }
        }
      ]
    },
    {
      "cell_type": "code",
      "source": [
        "# Level of education with bank accounts representation\n",
        "plt.figure(figsize=(10,5))\n",
        "bank.level_of_educuation.value_counts().sort_index().plot.bar()\n",
        "\n",
        "# Labelling the graph\n",
        "plt.title('Level of Education with bank accounts representation Bar chart')\n",
        "plt.xlabel('Level of Educuation')\n",
        "plt.ylabel('Count')\n",
        "plt.show()\n",
        "\n",
        "# The largest section of the population in our dataset with bank accounts only have a primary level certificate as the\n",
        "# highest education level attained. The least number of people fall in the 'other' group. \n"
      ],
      "metadata": {
        "colab": {
          "base_uri": "https://localhost:8080/",
          "height": 494
        },
        "id": "IxRPo83jr77I",
        "outputId": "95cd9d10-47b8-4a05-939c-4d2b582e0c93"
      },
      "execution_count": 564,
      "outputs": [
        {
          "output_type": "display_data",
          "data": {
            "text/plain": [
              "<Figure size 720x360 with 1 Axes>"
            ],
            "image/png": "[encoded data removed]"
          },
          "metadata": {
            "needs_background": "light"
          }
        }
      ]
    },
    {
      "cell_type": "code",
      "source": [
        "# Household size likely to have a bank account\n",
        "plt.figure(figsize=(10,5))\n",
        "bank.household_size.value_counts().sort_index().plot.bar()\n",
        "\n",
        "# Labelling the graph\n",
        "plt.title('Household size representation Bar chart')\n",
        "plt.xlabel('Household size')\n",
        "plt.ylabel('Count')\n",
        "plt.show()\n",
        "\n",
        "# The fewer the household size the higher chance an individual has to have a bank account"
      ],
      "metadata": {
        "colab": {
          "base_uri": "https://localhost:8080/",
          "height": 352
        },
        "id": "NFTWMWwIWqAS",
        "outputId": "af62cf5c-76af-4aa4-f51d-7a70b722e3c0"
      },
      "execution_count": 521,
      "outputs": [
        {
          "output_type": "display_data",
          "data": {
            "text/plain": [
              "<Figure size 720x360 with 1 Axes>"
            ],
            "image/png": "[encoded data removed]"
          },
          "metadata": {
            "needs_background": "light"
          }
        }
      ]
    },
    {
      "cell_type": "code",
      "source": [
        "# Representation of data available for the years in our data\n",
        "year = df.groupby(['year'], as_index=False)['uniqueid'].count()\n",
        "labels = year['year']\n",
        "count = year['uniqueid']\n",
        "explode = (0.1, 0.1, 0)\n",
        "plt.pie(count, labels=labels, autopct=\"%1.1f%%\",  explode=explode, shadow=True, startangle=100)\n",
        "plt.axis('equal')\n",
        "plt.title('Year representation')\n",
        "plt.show()\n",
        "# The data was mostly collected in 2018. Hence mos of our data is very recent "
      ],
      "metadata": {
        "colab": {
          "base_uri": "https://localhost:8080/",
          "height": 265
        },
        "id": "-ovevrftiE1T",
        "outputId": "1d38807c-c43f-486d-af34-c81434bf8059"
      },
      "execution_count": 522,
      "outputs": [
        {
          "output_type": "display_data",
          "data": {
            "text/plain": [
              "<Figure size 432x288 with 1 Axes>"
            ],
            "image/png": "[encoded data removed]"
          },
          "metadata": {}
        }
      ]
    },
    {
      "cell_type": "code",
      "source": [
        "# Representation of data available for the gender \n",
        "gender = df.groupby(['gender_of_respondent'], as_index=False)['uniqueid'].count()\n",
        "labels = gender['gender_of_respondent']\n",
        "count = gender['uniqueid']\n",
        "explode = (0.1, 0.1)\n",
        "plt.pie(count, labels=labels, autopct=\"%1.1f%%\",  explode=explode, shadow=True, startangle=100)\n",
        "plt.axis('equal')\n",
        "plt.title('Gender representation')\n",
        "plt.show()\n",
        "# There are more female than male in our dataset  "
      ],
      "metadata": {
        "colab": {
          "base_uri": "https://localhost:8080/",
          "height": 264
        },
        "id": "w0nrhZb4kMNW",
        "outputId": "c8e11441-f88e-4547-81d6-49d4f8715b4f"
      },
      "execution_count": 523,
      "outputs": [
        {
          "output_type": "display_data",
          "data": {
            "text/plain": [
              "<Figure size 432x288 with 1 Axes>"
            ],
            "image/png": "[encoded data removed]"
          },
          "metadata": {}
        }
      ]
    },
    {
      "cell_type": "code",
      "source": [
        "# Representation of data available for the gender with bank accounts\n",
        "\n",
        "gender = bank.groupby(['gender_of_respondent'], as_index=False)['uniqueid'].count()\n",
        "labels = gender['gender_of_respondent']\n",
        "count = gender['uniqueid']\n",
        "explode = (0.1, 0.1)\n",
        "\n",
        "# Plotting pie chart\n",
        "plt.pie(count, labels=labels, autopct=\"%1.1f%%\",  explode=explode, shadow=True, startangle=100)\n",
        "plt.axis('equal')\n",
        "plt.title('Gender representation with bank accounts')\n",
        "plt.show()\n",
        "\n",
        "# Despite the fact that there are more female than male in our dataset, there are more males with a bank account than females\n",
        "# This implies that the male gender are likely to open a bank account "
      ],
      "metadata": {
        "colab": {
          "base_uri": "https://localhost:8080/",
          "height": 264
        },
        "id": "syNV_O5mUEd4",
        "outputId": "0eba451d-1965-4c21-efb1-7d4f34e434ef"
      },
      "execution_count": 565,
      "outputs": [
        {
          "output_type": "display_data",
          "data": {
            "text/plain": [
              "<Figure size 432x288 with 1 Axes>"
            ],
            "image/png": "[encoded data removed]"
          },
          "metadata": {}
        }
      ]
    },
    {
      "cell_type": "code",
      "source": [
        "# Representation of data available for Bank account ownership\n",
        "bank = df.groupby(['has_a_bank_account'], as_index=False)['uniqueid'].count()\n",
        "labels = bank['has_a_bank_account']\n",
        "count = bank['uniqueid']\n",
        "explode = (0.1, 0.1)\n",
        "plt.pie(count, labels= labels, autopct=\"%1.1f%%\",  explode=explode, shadow=True, startangle=200)\n",
        "plt.axis('equal')\n",
        "plt.title('Bank account ownership representation')\n",
        "plt.show()\n",
        "\n",
        "# Most people in dataset do not have a bank account  "
      ],
      "metadata": {
        "colab": {
          "base_uri": "https://localhost:8080/",
          "height": 264
        },
        "id": "1lqwGRXuk8-_",
        "outputId": "4b2fa8fe-e7bc-442e-a265-2c31358984db"
      },
      "execution_count": 525,
      "outputs": [
        {
          "output_type": "display_data",
          "data": {
            "text/plain": [
              "<Figure size 432x288 with 1 Axes>"
            ],
            "image/png": "[encoded data removed]"
          },
          "metadata": {}
        }
      ]
    },
    {
      "cell_type": "code",
      "source": [
        "# Cell phone access \n",
        "cell = df.groupby(['cell_phone_access'], as_index=False)['uniqueid'].count()\n",
        "labels = cell['cell_phone_access']\n",
        "count = cell['uniqueid']\n",
        "explode = (0.1, 0)\n",
        "plt.pie(count, labels= labels, autopct=\"%1.1f%%\",  explode=explode, shadow=True, startangle=150)\n",
        "plt.axis('equal')\n",
        "plt.title('Cell phone access representation')\n",
        "plt.show()\n",
        "# Majority of the population in our dataset have an access to a cell phone"
      ],
      "metadata": {
        "colab": {
          "base_uri": "https://localhost:8080/",
          "height": 264
        },
        "id": "vCunBThvq__g",
        "outputId": "b90dd6a8-e432-4eeb-85e0-c8c7e325184b"
      },
      "execution_count": 526,
      "outputs": [
        {
          "output_type": "display_data",
          "data": {
            "text/plain": [
              "<Figure size 432x288 with 1 Axes>"
            ],
            "image/png": "[encoded data removed]"
          },
          "metadata": {}
        }
      ]
    },
    {
      "cell_type": "code",
      "source": [
        "# Cell phone access with bank account\n",
        "\n",
        "bank =  df[df['has_a_bank_account'] == 'Yes']\n",
        "cell = bank.groupby(['cell_phone_access'], as_index=False)['uniqueid'].count()\n",
        "labels = cell['cell_phone_access']\n",
        "count = cell['uniqueid']\n",
        "explode = (0, 0.5)\n",
        "plt.pie(count, labels= labels, autopct=\"%1.1f%%\",  explode=explode, shadow=True, startangle=150)\n",
        "plt.axis('equal')\n",
        "plt.title('Cell phone access representation with bank account')\n",
        "plt.show()\n",
        "\n",
        "# Most people with bank accounts have  cellphone access \n"
      ],
      "metadata": {
        "colab": {
          "base_uri": "https://localhost:8080/",
          "height": 264
        },
        "id": "Dt8Ge2FVVMoN",
        "outputId": "c04b7e8d-ab7e-4246-e4c3-5af788fc042e"
      },
      "execution_count": 566,
      "outputs": [
        {
          "output_type": "display_data",
          "data": {
            "text/plain": [
              "<Figure size 432x288 with 1 Axes>"
            ],
            "image/png": "[encoded data removed]"
          },
          "metadata": {}
        }
      ]
    },
    {
      "cell_type": "code",
      "source": [
        "# Type of location representation\n",
        "location = df.groupby(['type_of_location'], as_index=False)['uniqueid'].count()\n",
        "labels = location['type_of_location']\n",
        "count =  location['uniqueid']\n",
        "explode = (0.1, 0)\n",
        "plt.pie(count, labels= labels, autopct=\"%1.1f%%\",  explode=explode, shadow=True, startangle=90)\n",
        "plt.axis('equal')\n",
        "plt.title('Type of location representation')\n",
        "plt.show()\n",
        "# Majority of the population in our dataset lives in the rural areas. "
      ],
      "metadata": {
        "colab": {
          "base_uri": "https://localhost:8080/",
          "height": 264
        },
        "id": "auZ1YiG_t4Nu",
        "outputId": "8d3b6728-d7a1-420b-da6f-e6c6e84d6910"
      },
      "execution_count": 534,
      "outputs": [
        {
          "output_type": "display_data",
          "data": {
            "text/plain": [
              "<Figure size 432x288 with 1 Axes>"
            ],
            "image/png": "[encoded data removed]"
          },
          "metadata": {}
        }
      ]
    },
    {
      "cell_type": "markdown",
      "source": [
        "### <font color='violet'>Bivariate Analysis</font>"
      ],
      "metadata": {
        "id": "MnwXwhGIaaME"
      }
    },
    {
      "cell_type": "code",
      "source": [
        "# Plotting the univariate summaries and recording our observations\n",
        "# Correlation between variables\n",
        "plt.figure(figsize=(8,2))\n",
        "sns.heatmap(df.corr(), annot=True)\n",
        "plt.title('Heatmap representation of correlation')\n",
        "plt.show()\n",
        "\n",
        "# All variables are negatively weakly correlated to one another.\n",
        "# This implies that there is no direction or trend of any variable that affects another.\n"
      ],
      "metadata": {
        "colab": {
          "base_uri": "https://localhost:8080/",
          "height": 174
        },
        "id": "B-HWOvGqaYH9",
        "outputId": "c76fb928-af0f-4cda-8b15-8c189b25fbcf"
      },
      "execution_count": 535,
      "outputs": [
        {
          "output_type": "display_data",
          "data": {
            "text/plain": [
              "<Figure size 576x144 with 2 Axes>"
            ],
            "image/png": "[encoded data removed]"
          },
          "metadata": {
            "needs_background": "light"
          }
        }
      ]
    },
    {
      "cell_type": "code",
      "source": [
        "# Plotting a pairplot \n",
        "sns.pairplot(df) \n",
        "plt.title('Pairplot visualization')\n",
        "plt.show()\n",
        "\n",
        "# There are no visible collinearity/trends between variables "
      ],
      "metadata": {
        "colab": {
          "base_uri": "https://localhost:8080/",
          "height": 550
        },
        "id": "9k4UNe2waZTN",
        "outputId": "81dc2db6-83c8-4754-b65b-474ab6f9208f"
      },
      "execution_count": 536,
      "outputs": [
        {
          "output_type": "display_data",
          "data": {
            "text/plain": [
              "<Figure size 540x540 with 12 Axes>"
            ],
            "image/png": "[encoded data removed]"
          },
          "metadata": {
            "needs_background": "light"
          }
        }
      ]
    },
    {
      "cell_type": "code",
      "source": [
        "# Plot a stacked bar chart for type of location Vs has a bank account\n",
        "\n",
        "def filter_val(columns, values):\n",
        "  return df[(df[columns[0]] == values[0]) & (df[columns[1]]== values[1])]\n",
        "\n",
        "columns = ['type_of_location', 'has_a_bank_account']\n",
        "first = ['Rural', 'Yes']\n",
        "second = ['Rural', 'No']\n",
        "third = ['Urban', 'Yes']\n",
        "fourth = ['Urban', 'No']\n",
        "rural_yes =  filter_val(columns,first)\n",
        "rural_no = filter_val(columns,second)\n",
        "urban_yes =  filter_val(columns,third)\n",
        "urban_no =  filter_val(columns,fourth)\n",
        "\n",
        "vals1 = [rural_yes, urban_yes]\n",
        "vals2 = [rural_no, urban_no]\n",
        "\n",
        "yes = []\n",
        "no = []\n",
        "for val in vals1:\n",
        "   yes.append(len(val['type_of_location']))\n",
        "\n",
        "for val in vals2:\n",
        "   no.append(len(val['type_of_location']))\n",
        "\n",
        "\n",
        "X = ['Rural', 'Urban']\n",
        "plt.bar(X, yes, label='YES' , width=0.9)\n",
        "plt.bar(X, no, label='NO', bottom=yes, width=0.9)\n",
        "\n",
        "# labelling our stacked barplot\n",
        "plt.title('Type of location against bank ownership')\n",
        "plt.legend(loc='upper right')\n",
        "plt.ylabel('Value Counts')\n",
        "plt.xlabel('Location')\n",
        "\n",
        "# Our data contains an equal number of people in Rural and Urban areas with a bank account.\n",
        "# There is an equal chance that a person in the rural area opens a bank account with that\n",
        "# of a person in an urban area.\n",
        "# This implies that they should both be targeted equally."
      ],
      "metadata": {
        "colab": {
          "base_uri": "https://localhost:8080/",
          "height": 313
        },
        "id": "bHCsY7KbzTIn",
        "outputId": "992e9436-7115-4868-e5f3-2ffdcf92b039"
      },
      "execution_count": 537,
      "outputs": [
        {
          "output_type": "execute_result",
          "data": {
            "text/plain": [
              "Text(0.5, 0, 'Location')"
            ]
          },
          "metadata": {},
          "execution_count": 537
        },
        {
          "output_type": "display_data",
          "data": {
            "text/plain": [
              "<Figure size 432x288 with 1 Axes>"
            ],
            "image/png": "[encoded data removed]"
          },
          "metadata": {
            "needs_background": "light"
          }
        }
      ]
    },
    {
      "cell_type": "code",
      "source": [
        "# Plot a stacked bar chart for gender Vs has a bank account\n",
        "\n",
        "# Refine our column names and use the same function to filter our data\n",
        "columns = ['gender_of_respondent', 'has_a_bank_account']\n",
        "first = ['Male', 'Yes']\n",
        "second = ['Male', 'No']\n",
        "third = ['Female', 'Yes']\n",
        "fourth = ['Female', 'No']\n",
        "male_yes =  filter_val(columns,first)\n",
        "male_no = filter_val(columns,second)\n",
        "female_yes =  filter_val(columns,third)\n",
        "female_no =  filter_val(columns,fourth)\n",
        "\n",
        "vals1 = [male_yes, female_yes]\n",
        "vals2 = [male_no, female_no]\n",
        "\n",
        "yes = []\n",
        "no = []\n",
        "for val in vals1:\n",
        "   yes.append(len(val['gender_of_respondent']))\n",
        "\n",
        "for val in vals2:\n",
        "   no.append(len(val['gender_of_respondent']))\n",
        "\n",
        "\n",
        "X = ['Male', 'Female']\n",
        "\n",
        "plt.figure(figsize=(7,5))\n",
        "plt.bar(X, yes, label='YES', width=0.9)\n",
        "plt.bar(X, no, label='NO', bottom=yes, width=0.9)\n",
        "\n",
        "# labelling our stacked barplot\n",
        "plt.title('Gender against bank ownership')\n",
        "plt.legend(loc='upper left')\n",
        "plt.ylabel('Value Counts')\n",
        "plt.xlabel('Gender')\n",
        "# There are more male with bank accounts compared to female despite the general\n",
        "# low value of individuals with bank accounts. The male are more likely to\n",
        "# open bank accounts compared to female hence this should be the target population."
      ],
      "metadata": {
        "colab": {
          "base_uri": "https://localhost:8080/",
          "height": 367
        },
        "id": "c1ugrXTyrkKR",
        "outputId": "377468e6-1afb-4126-f5cb-4a34251718cc"
      },
      "execution_count": 538,
      "outputs": [
        {
          "output_type": "execute_result",
          "data": {
            "text/plain": [
              "Text(0.5, 0, 'Gender')"
            ]
          },
          "metadata": {},
          "execution_count": 538
        },
        {
          "output_type": "display_data",
          "data": {
            "text/plain": [
              "<Figure size 504x360 with 1 Axes>"
            ],
            "image/png": "[encoded data removed]"
          },
          "metadata": {
            "needs_background": "light"
          }
        }
      ]
    },
    {
      "cell_type": "code",
      "source": [
        "# Plot a stacked bar chart for country Vs has a bank account\n",
        "\n",
        "# Refine our column names and use the same function to filter our data\n",
        "columns = ['country', 'has_a_bank_account']\n",
        "first = ['Kenya', 'Yes']\n",
        "second =  ['Kenya', 'No']\n",
        "\n",
        "third =  ['Uganda', 'Yes']\n",
        "fourth = ['Uganda', 'No']\n",
        " \n",
        "fifth = ['Tanzania', 'Yes']\n",
        "sixth = ['Tanzania', 'No']\n",
        "\n",
        "seventh = ['Rwanda', 'Yes']\n",
        "eighth = ['Rwanda', 'No']\n",
        "\n",
        "ke_yes =  filter_val(columns,first)\n",
        "ke_no = filter_val(columns,second)\n",
        "\n",
        "ug_yes =  filter_val(columns,third)\n",
        "ug_no =  filter_val(columns,fourth)\n",
        "\n",
        "tz_yes = filter_val(columns,fifth)\n",
        "tz_no = filter_val(columns,sixth)\n",
        "\n",
        "rw_yes = filter_val(columns,seventh)\n",
        "rw_no = filter_val(columns,eighth)\n",
        "\n",
        "vals1 = [ke_yes, ug_yes, tz_yes, rw_yes]\n",
        "vals2 = [ke_no, ug_no, tz_no, rw_no]\n",
        "\n",
        "yes = []\n",
        "no = []\n",
        "for val in vals1:\n",
        "   yes.append(len(val['country']))\n",
        "\n",
        "for val in vals2:\n",
        "   no.append(len(val['country']))\n",
        "\n",
        "\n",
        "X = ['Kenya', 'Uganda', 'Tanzania', 'Rwanda']\n",
        "\n",
        "plt.figure(figsize=(7,5))\n",
        "plt.bar(X, yes, label='YES', width=0.9)\n",
        "plt.bar(X, no, label='NO', bottom=yes, width=0.9)\n",
        "\n",
        "# labelling our stacked barplot\n",
        "plt.title('Country against bank ownership')\n",
        "plt.legend(loc='upper left')\n",
        "plt.ylabel('Value Counts')\n",
        "plt.xlabel('Country')\n",
        "\n",
        "# Individuals in Kenya are highly likely to hava a bank account than in other countries. "
      ],
      "metadata": {
        "colab": {
          "base_uri": "https://localhost:8080/",
          "height": 367
        },
        "id": "T2cYUVgOvqOc",
        "outputId": "ba3aa912-5195-4529-db29-d4e7674c73d5"
      },
      "execution_count": 539,
      "outputs": [
        {
          "output_type": "execute_result",
          "data": {
            "text/plain": [
              "Text(0.5, 0, 'Country')"
            ]
          },
          "metadata": {},
          "execution_count": 539
        },
        {
          "output_type": "display_data",
          "data": {
            "text/plain": [
              "<Figure size 504x360 with 1 Axes>"
            ],
            "image/png": "[encoded data removed]"
          },
          "metadata": {
            "needs_background": "light"
          }
        }
      ]
    },
    {
      "cell_type": "code",
      "source": [
        "# Using t_test to check if there is a relationship between number of households in rural areas and in urban areas\n",
        "from scipy import stats\n",
        "# Let us first use the researchpy function to get the summary cont\n",
        "!pip install researchpy\n",
        "import researchpy as rp\n",
        "rp.summary_cont(df.groupby('type_of_location')['household_size']) \n",
        "# For t_test to be conducted, the number of non missing values(N) need to be the same\n",
        "\n"
      ],
      "metadata": {
        "id": "Vyxaqy4f1TKJ",
        "colab": {
          "base_uri": "https://localhost:8080/",
          "height": 354
        },
        "outputId": "2def09c2-2734-4960-d1a0-c45faea2e793"
      },
      "execution_count": 540,
      "outputs": [
        {
          "output_type": "stream",
          "name": "stdout",
          "text": [
            "Requirement already satisfied: researchpy in /usr/local/lib/python3.7/dist-packages (0.3.2)\n",
            "Requirement already satisfied: patsy in /usr/local/lib/python3.7/dist-packages (from researchpy) (0.5.2)\n",
            "Requirement already satisfied: pandas in /usr/local/lib/python3.7/dist-packages (from researchpy) (1.3.5)\n",
            "Requirement already satisfied: statsmodels in /usr/local/lib/python3.7/dist-packages (from researchpy) (0.10.2)\n",
            "Requirement already satisfied: scipy in /usr/local/lib/python3.7/dist-packages (from researchpy) (1.4.1)\n",
            "Requirement already satisfied: numpy in /usr/local/lib/python3.7/dist-packages (from researchpy) (1.21.5)\n",
            "Requirement already satisfied: python-dateutil>=2.7.3 in /usr/local/lib/python3.7/dist-packages (from pandas->researchpy) (2.8.2)\n",
            "Requirement already satisfied: pytz>=2017.3 in /usr/local/lib/python3.7/dist-packages (from pandas->researchpy) (2018.9)\n",
            "Requirement already satisfied: six>=1.5 in /usr/local/lib/python3.7/dist-packages (from python-dateutil>=2.7.3->pandas->researchpy) (1.15.0)\n",
            "\n",
            "\n"
          ]
        },
        {
          "output_type": "execute_result",
          "data": {
            "text/plain": [
              "                      N    Mean      SD      SE  95% Conf.  Interval\n",
              "type_of_location                                                    \n",
              "Rural             14342  4.1818  2.3144  0.0193     4.1440    4.2197\n",
              "Urban              9179  2.8982  1.9832  0.0207     2.8577    2.9388"
            ],
            "text/html": [
              "\n",
              "  <div id=\"df-8f2e42e3-9bb9-4f00-ac9a-66c9506145f6\">\n",
              "    <div class=\"colab-df-container\">\n",
              "      <div>\n",
              "<style scoped>\n",
              "    .dataframe tbody tr th:only-of-type {\n",
              "        vertical-align: middle;\n",
              "    }\n",
              "\n",
              "    .dataframe tbody tr th {\n",
              "        vertical-align: top;\n",
              "    }\n",
              "\n",
              "    .dataframe thead th {\n",
              "        text-align: right;\n",
              "    }\n",
              "</style>\n",
              "<table border=\"1\" class=\"dataframe\">\n",
              "  <thead>\n",
              "    <tr style=\"text-align: right;\">\n",
              "      <th></th>\n",
              "      <th>N</th>\n",
              "      <th>Mean</th>\n",
              "      <th>SD</th>\n",
              "      <th>SE</th>\n",
              "      <th>95% Conf.</th>\n",
              "      <th>Interval</th>\n",
              "    </tr>\n",
              "    <tr>\n",
              "      <th>type_of_location</th>\n",
              "      <th></th>\n",
              "      <th></th>\n",
              "      <th></th>\n",
              "      <th></th>\n",
              "      <th></th>\n",
              "      <th></th>\n",
              "    </tr>\n",
              "  </thead>\n",
              "  <tbody>\n",
              "    <tr>\n",
              "      <th>Rural</th>\n",
              "      <td>14342</td>\n",
              "      <td>4.1818</td>\n",
              "      <td>2.3144</td>\n",
              "      <td>0.0193</td>\n",
              "      <td>4.1440</td>\n",
              "      <td>4.2197</td>\n",
              "    </tr>\n",
              "    <tr>\n",
              "      <th>Urban</th>\n",
              "      <td>9179</td>\n",
              "      <td>2.8982</td>\n",
              "      <td>1.9832</td>\n",
              "      <td>0.0207</td>\n",
              "      <td>2.8577</td>\n",
              "      <td>2.9388</td>\n",
              "    </tr>\n",
              "  </tbody>\n",
              "</table>\n",
              "</div>\n",
              "      <button class=\"colab-df-convert\" onclick=\"convertToInteractive('df-8f2e42e3-9bb9-4f00-ac9a-66c9506145f6')\"\n",
              "              title=\"Convert this dataframe to an interactive table.\"\n",
              "              style=\"display:none;\">\n",
              "        \n",
              "  <svg xmlns=\"http://www.w3.org/2000/svg\" height=\"24px\"viewBox=\"0 0 24 24\"\n",
              "       width=\"24px\">\n",
              "    <path d=\"M0 0h24v24H0V0z\" fill=\"none\"/>\n",
              "    <path d=\"M18.56 5.44l.94 2.06.94-2.06 2.06-.94-2.06-.94-.94-2.06-.94 2.06-2.06.94zm-11 1L8.5 8.5l.94-2.06 2.06-.94-2.06-.94L8.5 2.5l-.94 2.06-2.06.94zm10 10l.94 2.06.94-2.06 2.06-.94-2.06-.94-.94-2.06-.94 2.06-2.06.94z\"/><path d=\"M17.41 7.96l-1.37-1.37c-.4-.4-.92-.59-1.43-.59-.52 0-1.04.2-1.43.59L10.3 9.45l-7.72 7.72c-.78.78-.78 2.05 0 2.83L4 21.41c.39.39.9.59 1.41.59.51 0 1.02-.2 1.41-.59l7.78-7.78 2.81-2.81c.8-.78.8-2.07 0-2.86zM5.41 20L4 18.59l7.72-7.72 1.47 1.35L5.41 20z\"/>\n",
              "  </svg>\n",
              "      </button>\n",
              "      \n",
              "  <style>\n",
              "    .colab-df-container {\n",
              "      display:flex;\n",
              "      flex-wrap:wrap;\n",
              "      gap: 12px;\n",
              "    }\n",
              "\n",
              "    .colab-df-convert {\n",
              "      background-color: #E8F0FE;\n",
              "      border: none;\n",
              "      border-radius: 50%;\n",
              "      cursor: pointer;\n",
              "      display: none;\n",
              "      fill: #1967D2;\n",
              "      height: 32px;\n",
              "      padding: 0 0 0 0;\n",
              "      width: 32px;\n",
              "    }\n",
              "\n",
              "    .colab-df-convert:hover {\n",
              "      background-color: #E2EBFA;\n",
              "      box-shadow: 0px 1px 2px rgba(60, 64, 67, 0.3), 0px 1px 3px 1px rgba(60, 64, 67, 0.15);\n",
              "      fill: #174EA6;\n",
              "    }\n",
              "\n",
              "    [theme=dark] .colab-df-convert {\n",
              "      background-color: #3B4455;\n",
              "      fill: #D2E3FC;\n",
              "    }\n",
              "\n",
              "    [theme=dark] .colab-df-convert:hover {\n",
              "      background-color: #434B5C;\n",
              "      box-shadow: 0px 1px 3px 1px rgba(0, 0, 0, 0.15);\n",
              "      filter: drop-shadow(0px 1px 2px rgba(0, 0, 0, 0.3));\n",
              "      fill: #FFFFFF;\n",
              "    }\n",
              "  </style>\n",
              "\n",
              "      <script>\n",
              "        const buttonEl =\n",
              "          document.querySelector('#df-8f2e42e3-9bb9-4f00-ac9a-66c9506145f6 button.colab-df-convert');\n",
              "        buttonEl.style.display =\n",
              "          google.colab.kernel.accessAllowed ? 'block' : 'none';\n",
              "\n",
              "        async function convertToInteractive(key) {\n",
              "          const element = document.querySelector('#df-8f2e42e3-9bb9-4f00-ac9a-66c9506145f6');\n",
              "          const dataTable =\n",
              "            await google.colab.kernel.invokeFunction('convertToInteractive',\n",
              "                                                     [key], {});\n",
              "          if (!dataTable) return;\n",
              "\n",
              "          const docLinkHtml = 'Like what you see? Visit the ' +\n",
              "            '<a target=\"_blank\" href=https://colab.research.google.com/notebooks/data_table.ipynb>data table notebook</a>'\n",
              "            + ' to learn more about interactive tables.';\n",
              "          element.innerHTML = '';\n",
              "          dataTable['output_type'] = 'display_data';\n",
              "          await google.colab.output.renderOutput(dataTable, element);\n",
              "          const docLink = document.createElement('div');\n",
              "          docLink.innerHTML = docLinkHtml;\n",
              "          element.appendChild(docLink);\n",
              "        }\n",
              "      </script>\n",
              "    </div>\n",
              "  </div>\n",
              "  "
            ]
          },
          "metadata": {},
          "execution_count": 540
        }
      ]
    },
    {
      "cell_type": "code",
      "source": [
        "# split the data into rural and urban dataframes\n",
        "rural  = df[df['type_of_location'] == 'Rural']\n",
        "urban = df[df['type_of_location'] == 'Urban']\n",
        "\n",
        "# Ratio for unequal independent samples for t_test is <=1.5. Let's check for this\n",
        "ratio = len(rural['household_size'])/len(urban['household_size'])\n",
        "ratio\n",
        "# The ratio value is above 1.5 meaning his condition isn't satisfied.\n",
        "# Because of this, our t_test results may not be reliable. Hence we shall use the welch's t Test"
      ],
      "metadata": {
        "colab": {
          "base_uri": "https://localhost:8080/"
        },
        "id": "0Fm0LtK2adBN",
        "outputId": "7b6a65cc-58c7-4938-d7af-b45a49f281fe"
      },
      "execution_count": 543,
      "outputs": [
        {
          "output_type": "execute_result",
          "data": {
            "text/plain": [
              "1.5624795729382286"
            ]
          },
          "metadata": {},
          "execution_count": 543
        }
      ]
    },
    {
      "cell_type": "code",
      "source": [
        "# Check for equal variance between the two groups.\n",
        "stats.levene(rural['household_size'], urban['household_size'])\n",
        "# The p_value < 0.0001 implying unequal variances\n"
      ],
      "metadata": {
        "colab": {
          "base_uri": "https://localhost:8080/"
        },
        "id": "G2lZRvs7Wh_M",
        "outputId": "34eea5e5-2e90-41b9-fbc8-ee4fb7ee3a43"
      },
      "execution_count": 542,
      "outputs": [
        {
          "output_type": "execute_result",
          "data": {
            "text/plain": [
              "LeveneResult(statistic=460.19021505779, pvalue=4.0716904596486477e-101)"
            ]
          },
          "metadata": {},
          "execution_count": 542
        }
      ]
    },
    {
      "cell_type": "code",
      "source": [
        "# Checking for normality of the individual dataframes.\n",
        "stats.shapiro(rural['household_size']), stats.shapiro(urban['household_size'])\n",
        "# They both violate the assumption of normality where p>0.05. The warning \n",
        "# statement however advices that an N<=5000 would give more accurate p_value results.\n",
        "# We shall therefore sample our data to sample size of 5000 for more accurate results."
      ],
      "metadata": {
        "colab": {
          "base_uri": "https://localhost:8080/"
        },
        "id": "lCIwimtIXq2g",
        "outputId": "3c5b560d-1054-4772-9d01-6fe68496a373"
      },
      "execution_count": 544,
      "outputs": [
        {
          "output_type": "stream",
          "name": "stderr",
          "text": [
            "/usr/local/lib/python3.7/dist-packages/scipy/stats/morestats.py:1676: UserWarning: p-value may not be accurate for N > 5000.\n",
            "  warnings.warn(\"p-value may not be accurate for N > 5000.\")\n"
          ]
        },
        {
          "output_type": "execute_result",
          "data": {
            "text/plain": [
              "((0.9409583806991577, 0.0), (0.8312174081802368, 0.0))"
            ]
          },
          "metadata": {},
          "execution_count": 544
        }
      ]
    },
    {
      "cell_type": "code",
      "source": [
        "# Checking for normality using plots\n",
        "# Calculate quantiles\n",
        "test1 = rural['household_size'].tolist()\n",
        "test2 = urban['household_size'].tolist()\n",
        "test1.sort()\n",
        "quantile_levels1 = np.arange(len(test1),dtype=float)/len(test1)\n",
        "\n",
        "test2.sort()\n",
        "quantile_levels2 = np.arange(len(test2),dtype=float)/len(test2)\n",
        "\n",
        "#Use the smaller set of quantile levels to create the plot\n",
        "quantile_levels = quantile_levels2\n",
        "\n",
        "#We already have the set of quantiles for the smaller data set\n",
        "quantiles2 = test2\n",
        "\n",
        "#We find the set of quantiles for the larger data set using linear interpolation\n",
        "quantiles1 = np.interp(quantile_levels,quantile_levels1,test1)\n",
        "\n",
        "#Plot the quantiles to create the qq plot\n",
        "import pylab\n",
        "pylab.plot(quantiles1,quantiles2)\n",
        "\n",
        "#Add a reference line\n",
        "maxval = max(test1[-1],test2[-1])\n",
        "minval = min(test1[0],test2[0])\n",
        "pylab.plot([minval,maxval],[minval,maxval],'k-') "
      ],
      "metadata": {
        "colab": {
          "base_uri": "https://localhost:8080/",
          "height": 283
        },
        "id": "zdIGlDl2ujXy",
        "outputId": "8a0fb2f0-1a81-4d85-eb54-a19cdac5bb3d"
      },
      "execution_count": 545,
      "outputs": [
        {
          "output_type": "execute_result",
          "data": {
            "text/plain": [
              "[<matplotlib.lines.Line2D at 0x7f186530d6d0>]"
            ]
          },
          "metadata": {},
          "execution_count": 545
        },
        {
          "output_type": "display_data",
          "data": {
            "text/plain": [
              "<Figure size 432x288 with 1 Axes>"
            ],
            "image/png": "[encoded data removed]"
          },
          "metadata": {
            "needs_background": "light"
          }
        }
      ]
    },
    {
      "cell_type": "markdown",
      "source": [
        "The q-q plot above implies that the data is not normally distributed. But since our data contains N>5000, we can proceed to perform t_test."
      ],
      "metadata": {
        "id": "YFBWa4zHyBTy"
      }
    },
    {
      "cell_type": "code",
      "source": [
        "# Perform t_test\n",
        "stats.ttest_ind(rural['household_size'], urban['household_size'])\n",
        "# Since the p_value < 0.05 = 0.0, we shall reject the null hypohesis, i.e there is a \n",
        "# significant difference in the household size in rural areas from urban areas"
      ],
      "metadata": {
        "colab": {
          "base_uri": "https://localhost:8080/"
        },
        "id": "za9NlY1x0HxG",
        "outputId": "3a222871-33c6-4450-be5a-5aa65b12505f"
      },
      "execution_count": 546,
      "outputs": [
        {
          "output_type": "execute_result",
          "data": {
            "text/plain": [
              "Ttest_indResult(statistic=43.82659052751324, pvalue=0.0)"
            ]
          },
          "metadata": {},
          "execution_count": 546
        }
      ]
    },
    {
      "cell_type": "markdown",
      "source": [
        "### <font color='violet'>Multivariate Analysis</font>"
      ],
      "metadata": {
        "id": "tDhNufmVaeSE"
      }
    },
    {
      "cell_type": "code",
      "metadata": {
        "id": "6UzyQC6kmdBi"
      },
      "source": [
        "# Data Reduction\n",
        "#\n",
        "# Using pca\n",
        "\n",
        "# Split the data into labelled data/ target and unlabelled data\n",
        "columns = ['household_size']\n",
        "X = df[columns]\n",
        "y = df['has_a_bank_account'] \n",
        "# df.drop(columns, axis=1)"
      ],
      "execution_count": 547,
      "outputs": []
    },
    {
      "cell_type": "code",
      "source": [
        "# Split the data into train and test data\n",
        "from sklearn.model_selection import train_test_split\n",
        "X_train, X_test, y_train, y_test = train_test_split(X, y, test_size=0.2, random_state=False)"
      ],
      "metadata": {
        "id": "K6hHthvUBEse"
      },
      "execution_count": 548,
      "outputs": []
    },
    {
      "cell_type": "code",
      "source": [
        "# We now standardize our data to be on the same scale\n",
        "from sklearn.preprocessing import StandardScaler\n",
        "sc = StandardScaler()\n",
        "X_train = sc.fit_transform(X_train)\n",
        "X_test = sc.transform(X_test) "
      ],
      "metadata": {
        "id": "9fyJPlQrLcKk"
      },
      "execution_count": 549,
      "outputs": []
    },
    {
      "cell_type": "code",
      "source": [
        "# We now perform pca on the training dataset\n",
        "\n",
        "# import pca\n",
        "from sklearn.decomposition import PCA\n",
        "\n",
        "pca = PCA()\n",
        "X_train = pca.fit_transform(X_train)\n",
        "X_test = pca.transform(X_test)\n"
      ],
      "metadata": {
        "id": "RIywfJm7OMSi"
      },
      "execution_count": 550,
      "outputs": []
    },
    {
      "cell_type": "code",
      "source": [
        "# Get the variance ratio for each principal component\n",
        "explained_variance = pca.explained_variance_ratio_\n",
        "\n",
        "# Display explained_variance\n",
        "explained_variance"
      ],
      "metadata": {
        "colab": {
          "base_uri": "https://localhost:8080/"
        },
        "id": "nVFQnaF_Vvpm",
        "outputId": "929e2611-5f8d-4e2f-e21b-350b270b5a5a"
      },
      "execution_count": 551,
      "outputs": [
        {
          "output_type": "execute_result",
          "data": {
            "text/plain": [
              "array([1.])"
            ]
          },
          "metadata": {},
          "execution_count": 551
        }
      ]
    },
    {
      "cell_type": "code",
      "source": [
        "# Choosing number of principal components=1.(n_components=1)\n",
        "from sklearn.decomposition import PCA\n",
        "\n",
        "pca = PCA(n_components=1)\n",
        "X_train = pca.fit_transform(X_train)\n",
        "X_test = pca.transform(X_test)"
      ],
      "metadata": {
        "id": "r6uZEq51WTmk"
      },
      "execution_count": 552,
      "outputs": []
    },
    {
      "cell_type": "markdown",
      "metadata": {
        "id": "vTbdjSrhVIiT"
      },
      "source": [
        "## 7. Implementing the Solution"
      ]
    },
    {
      "cell_type": "markdown",
      "source": [
        "We can therefore predict individuals who are most likely to have or use a bank account by using Principal Component Analysis to reduce the dimensionality of the data, then using the Random Forest Classifier to train and predict the results of our model.\n",
        "\n",
        "From this model, we are able to predict correctly 85.91% of our data."
      ],
      "metadata": {
        "id": "dpBHSZ4tbF3x"
      }
    },
    {
      "cell_type": "code",
      "metadata": {
        "id": "PJLZaRzJXJ3w"
      },
      "source": [
        "# Implementing the Solution\n",
        "# \n",
        "# How we can predict which individuals are most likely to have or use a bank account\n"
      ],
      "execution_count": 553,
      "outputs": []
    },
    {
      "cell_type": "code",
      "source": [
        "# We now use random forest classification for making the predictions.\n",
        "\n",
        "# importing random forest classification\n",
        "from sklearn.ensemble import RandomForestClassifier\n",
        "\n",
        "# Training our model \n",
        "classifier = RandomForestClassifier(max_depth=2, random_state=0)\n",
        "classifier.fit(X_train, y_train)\n",
        "\n",
        "# Predicting the Test set results\n",
        "y_pred = classifier.predict(X_test)"
      ],
      "metadata": {
        "id": "fp0ta0ZeWwmp"
      },
      "execution_count": 554,
      "outputs": []
    },
    {
      "cell_type": "code",
      "source": [
        "# Evaluating the performance of our model\n",
        "# \n",
        "from sklearn.metrics import confusion_matrix\n",
        "from sklearn.metrics import accuracy_score\n",
        "\n",
        "cm = confusion_matrix(y_test, y_pred)\n",
        "print(cm)\n",
        "print('Accuracy' , accuracy_score(y_test, y_pred))\n",
        "\n",
        "# From the output that with only one feature, \n",
        "# the random forest algorithm results in 85.91% accuracy."
      ],
      "metadata": {
        "colab": {
          "base_uri": "https://localhost:8080/"
        },
        "id": "CUiut4Z8YrGh",
        "outputId": "3e99ce63-b1a6-4d9c-c144-c4aded2175d9"
      },
      "execution_count": 555,
      "outputs": [
        {
          "output_type": "stream",
          "name": "stdout",
          "text": [
            "[[4042    0]\n",
            " [ 663    0]]\n",
            "Accuracy 0.859086078639745\n"
          ]
        }
      ]
    },
    {
      "cell_type": "markdown",
      "source": [
        "We therefore settle on using only one principal component."
      ],
      "metadata": {
        "id": "KW1unHbNajZk"
      }
    },
    {
      "cell_type": "markdown",
      "metadata": {
        "id": "lQ2G4ZPDVOXE"
      },
      "source": [
        "## 8. Challenging the solution"
      ]
    },
    {
      "cell_type": "markdown",
      "source": [
        "To challenge our solution, we shall use a different reduction technique and compare accuracy results."
      ],
      "metadata": {
        "id": "pgOf_iHebz6j"
      }
    },
    {
      "cell_type": "code",
      "source": [
        "# Reviewing the Solution \n",
        "# \n",
        "\n",
        "# Splitting our data into labelled and unlabelled data\n",
        "columns = ['household_size']\n",
        "X = df[columns]\n",
        "y = df['has_a_bank_account'] "
      ],
      "metadata": {
        "id": "L_JQX2XQgNaM"
      },
      "execution_count": 556,
      "outputs": []
    },
    {
      "cell_type": "code",
      "source": [
        "# Splitting our data into train and test data \n",
        "X_train, X_test, y_train, y_test = train_test_split(X, y, test_size=0.2, random_state=False)\n"
      ],
      "metadata": {
        "id": "j5jAq-3XhNY5"
      },
      "execution_count": 557,
      "outputs": []
    },
    {
      "cell_type": "code",
      "source": [
        "# Performing feature scaling\n",
        "X_train = sc.fit_transform(X_train)\n",
        "X_test = sc.transform(X_test) "
      ],
      "metadata": {
        "id": "iZEJSVlchaZP"
      },
      "execution_count": 558,
      "outputs": []
    },
    {
      "cell_type": "code",
      "metadata": {
        "id": "j3x3SXZ4XT_L"
      },
      "source": [
        "# Performing LDA\n",
        "\n",
        "from sklearn.discriminant_analysis import LinearDiscriminantAnalysis as LDA\n",
        "lda = LDA(n_components=1)\n",
        "X_train = lda.fit_transform(X_train, y_train)\n",
        "X_test = lda.transform(X_test)\n",
        "\n"
      ],
      "execution_count": 559,
      "outputs": []
    },
    {
      "cell_type": "code",
      "source": [
        "# Training this model \n",
        "classifier = RandomForestClassifier(max_depth=2, random_state=0)\n",
        "classifier.fit(X_train, y_train)\n",
        "\n",
        "# Predicting the test set results for this model\n",
        "y_pred = classifier.predict(X_test)"
      ],
      "metadata": {
        "id": "1looQNLweyZ1"
      },
      "execution_count": 560,
      "outputs": []
    },
    {
      "cell_type": "code",
      "source": [
        "# Evaluating the performance of this model\n",
        "cm = confusion_matrix(y_test, y_pred)\n",
        "print(cm)\n",
        "print('Accuracy' , accuracy_score(y_test, y_pred))\n",
        "\n",
        "# The model still results in a 85.91% accuracy hence our implimented solution is correct"
      ],
      "metadata": {
        "colab": {
          "base_uri": "https://localhost:8080/"
        },
        "id": "cabqwv_AiH8O",
        "outputId": "b389f1eb-3ac9-47c2-fbf9-5537dcf1d7e2"
      },
      "execution_count": 561,
      "outputs": [
        {
          "output_type": "stream",
          "name": "stdout",
          "text": [
            "[[4042    0]\n",
            " [ 663    0]]\n",
            "Accuracy 0.859086078639745\n"
          ]
        }
      ]
    },
    {
      "cell_type": "markdown",
      "metadata": {
        "id": "xrmHVMVsVS--"
      },
      "source": [
        "## 9. Follow up questions"
      ]
    },
    {
      "cell_type": "markdown",
      "metadata": {
        "id": "pth2qSWhuBIy"
      },
      "source": [
        "> At this point, we can refine our question or collect new data, all in an iterative process to get at the truth.\n",
        "\n"
      ]
    },
    {
      "cell_type": "markdown",
      "metadata": {
        "id": "HPQviDmNtta8"
      },
      "source": [
        "### a). Did we have the right data?"
      ]
    },
    {
      "cell_type": "markdown",
      "source": [
        "Yes, our data fits our study question"
      ],
      "metadata": {
        "id": "MFv7aRkoi1wA"
      }
    },
    {
      "cell_type": "markdown",
      "metadata": {
        "id": "qjFHK1CKty7o"
      },
      "source": [
        "### b). Do we need other data to answer our question?"
      ]
    },
    {
      "cell_type": "markdown",
      "source": [
        "We do not require another data since our model has been tested for accuracy in a dataset period of 3 years."
      ],
      "metadata": {
        "id": "yKMWIZE-i8AR"
      }
    },
    {
      "cell_type": "markdown",
      "metadata": {
        "id": "HSsicSdvt4Zs"
      },
      "source": [
        "### c). Did we have the right question?"
      ]
    },
    {
      "cell_type": "markdown",
      "source": [
        "Yes, we have the right question captured."
      ],
      "metadata": {
        "id": "rOG0-cy7jND4"
      }
    }
  ]
}